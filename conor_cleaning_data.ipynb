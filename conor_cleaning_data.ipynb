{
 "cells": [
  {
   "cell_type": "code",
   "execution_count": 19,
   "metadata": {},
   "outputs": [],
   "source": [
    "from config import (gkey)\n",
    "import gmaps\n",
    "import numpy as np\n",
    "import pandas as pd\n",
    "import matplotlib.pyplot as plt\n",
    "import requests\n",
    "import time\n",
    "from us import states\n",
    "\n"
   ]
  },
  {
   "cell_type": "code",
   "execution_count": 20,
   "metadata": {},
   "outputs": [],
   "source": [
    "hospitals_load = \"./csv_references/Hospitals.csv\"\n",
    "hospital_data = pd.read_csv(hospitals_load)\n",
    "\n",
    "quality_load = \"./csv_references/Quality.csv\"\n",
    "quality_data = pd.read_csv((quality_load), dtype=\"object\", encoding=\"utf-8\")\n",
    "\n",
    "county_load = \"./csv_references/countydata.csv\"\n",
    "county_data = pd.read_csv((county_load),dtype=\"object\", encoding=\"utf-8\")\n"
   ]
  },
  {
   "cell_type": "code",
   "execution_count": 21,
   "metadata": {},
   "outputs": [],
   "source": [
    "hospital_df = hospital_data\n",
    "quality_df = quality_data\n",
    "county_df = county_data"
   ]
  },
  {
   "cell_type": "code",
   "execution_count": 22,
   "metadata": {},
   "outputs": [],
   "source": [
    "hospital_state = hospital_df[\"STATE\"]\n",
    "hospital_name = hospital_df[\"NAME\"]\n",
    "hospital_latitude = hospital_df[\"LATITUDE\"]\n",
    "hospital_longitude = hospital_df[\"LONGITUDE\"]\n",
    "hospital_city = hospital_df[\"CITY\"]\n",
    "hospital_county = hospital_df[\"COUNTY\"]\n",
    "hospital_type = hospital_df[\"TYPE\"]\n",
    "hospital_trauma = hospital_df[\"TRAUMA\"]\n",
    "hospital_zip = hospital_df[\"ZIP\"]\n",
    "hospital_population = hospital_df[\"POPULATION\"]\n",
    "\n",
    "updated_hospital_df = pd.DataFrame({\n",
    "    \n",
    "    \"State\": hospital_state,\n",
    "    \"Name\": hospital_name,\n",
    "    \"Latitude\": hospital_latitude,\n",
    "    \"Longitude\": hospital_longitude,\n",
    "    \"City\": hospital_city,\n",
    "    \"County\": hospital_county,\n",
    "    \"Type\": hospital_type,\n",
    "    \"Trauma\": hospital_trauma,\n",
    "    \"Zip\": hospital_zip, \n",
    "})\n",
    "\n",
    "\n",
    "hospital2_df = updated_hospital_df[[\"County\",\"State\",\"Name\", \"Latitude\", \"Longitude\", \"Type\", \"Trauma\", \"City\", \"Zip\"]]\n",
    "hospital2_df = hospital2_df.set_index(\"Zip\")\n",
    "hospital2_df.head()\n",
    "\n",
    "hospital2_df.to_csv(\"./csv_references/hospitaldf.csv\", header=True, index=True)\n"
   ]
  },
  {
   "cell_type": "code",
   "execution_count": 23,
   "metadata": {},
   "outputs": [
    {
     "data": {
      "text/html": [
       "<div>\n",
       "<style scoped>\n",
       "    .dataframe tbody tr th:only-of-type {\n",
       "        vertical-align: middle;\n",
       "    }\n",
       "\n",
       "    .dataframe tbody tr th {\n",
       "        vertical-align: top;\n",
       "    }\n",
       "\n",
       "    .dataframe thead th {\n",
       "        text-align: right;\n",
       "    }\n",
       "</style>\n",
       "<table border=\"1\" class=\"dataframe\">\n",
       "  <thead>\n",
       "    <tr style=\"text-align: right;\">\n",
       "      <th></th>\n",
       "      <th>County</th>\n",
       "      <th>State</th>\n",
       "      <th>Name</th>\n",
       "      <th>Latitude</th>\n",
       "      <th>Longitude</th>\n",
       "      <th>Type</th>\n",
       "      <th>Trauma</th>\n",
       "      <th>City</th>\n",
       "    </tr>\n",
       "    <tr>\n",
       "      <th>Zip</th>\n",
       "      <th></th>\n",
       "      <th></th>\n",
       "      <th></th>\n",
       "      <th></th>\n",
       "      <th></th>\n",
       "      <th></th>\n",
       "      <th></th>\n",
       "      <th></th>\n",
       "    </tr>\n",
       "  </thead>\n",
       "  <tbody>\n",
       "    <tr>\n",
       "      <th>2129</th>\n",
       "      <td>SUFFOLK</td>\n",
       "      <td>MA</td>\n",
       "      <td>SPAULDING REHABILITATION HOSPITAL</td>\n",
       "      <td>42.378509</td>\n",
       "      <td>-71.049056</td>\n",
       "      <td>REHABILITATION</td>\n",
       "      <td>NOT AVAILABLE</td>\n",
       "      <td>BOSTON</td>\n",
       "    </tr>\n",
       "    <tr>\n",
       "      <th>2537</th>\n",
       "      <td>BARNSTABLE</td>\n",
       "      <td>MA</td>\n",
       "      <td>SPAULDING REHABILITATION HOSPITAL CAPE COD</td>\n",
       "      <td>41.732984</td>\n",
       "      <td>-70.468103</td>\n",
       "      <td>REHABILITATION</td>\n",
       "      <td>NOT AVAILABLE</td>\n",
       "      <td>SANDWICH</td>\n",
       "    </tr>\n",
       "    <tr>\n",
       "      <th>1904</th>\n",
       "      <td>ESSEX</td>\n",
       "      <td>MA</td>\n",
       "      <td>NORTH SHORE MEDICAL CENTER  - UNION CAMPUS</td>\n",
       "      <td>42.501800</td>\n",
       "      <td>-70.979900</td>\n",
       "      <td>GENERAL ACUTE CARE</td>\n",
       "      <td>NOT AVAILABLE</td>\n",
       "      <td>LYNN</td>\n",
       "    </tr>\n",
       "    <tr>\n",
       "      <th>2062</th>\n",
       "      <td>NORFOLK</td>\n",
       "      <td>MA</td>\n",
       "      <td>NORWOOD HOSPITAL</td>\n",
       "      <td>42.189000</td>\n",
       "      <td>-71.202100</td>\n",
       "      <td>GENERAL ACUTE CARE</td>\n",
       "      <td>NOT AVAILABLE</td>\n",
       "      <td>NORWOOD</td>\n",
       "    </tr>\n",
       "    <tr>\n",
       "      <th>2302</th>\n",
       "      <td>PLYMOUTH</td>\n",
       "      <td>MA</td>\n",
       "      <td>SIGNATURE HEALTHCARE BROCKTON HOSPITAL</td>\n",
       "      <td>42.087900</td>\n",
       "      <td>-70.991500</td>\n",
       "      <td>GENERAL ACUTE CARE</td>\n",
       "      <td>NOT AVAILABLE</td>\n",
       "      <td>BROCKTON</td>\n",
       "    </tr>\n",
       "  </tbody>\n",
       "</table>\n",
       "</div>"
      ],
      "text/plain": [
       "          County State                                        Name   Latitude  \\\n",
       "Zip                                                                             \n",
       "2129     SUFFOLK    MA           SPAULDING REHABILITATION HOSPITAL  42.378509   \n",
       "2537  BARNSTABLE    MA  SPAULDING REHABILITATION HOSPITAL CAPE COD  41.732984   \n",
       "1904       ESSEX    MA  NORTH SHORE MEDICAL CENTER  - UNION CAMPUS  42.501800   \n",
       "2062     NORFOLK    MA                            NORWOOD HOSPITAL  42.189000   \n",
       "2302    PLYMOUTH    MA      SIGNATURE HEALTHCARE BROCKTON HOSPITAL  42.087900   \n",
       "\n",
       "      Longitude                Type         Trauma      City  \n",
       "Zip                                                           \n",
       "2129 -71.049056      REHABILITATION  NOT AVAILABLE    BOSTON  \n",
       "2537 -70.468103      REHABILITATION  NOT AVAILABLE  SANDWICH  \n",
       "1904 -70.979900  GENERAL ACUTE CARE  NOT AVAILABLE      LYNN  \n",
       "2062 -71.202100  GENERAL ACUTE CARE  NOT AVAILABLE   NORWOOD  \n",
       "2302 -70.991500  GENERAL ACUTE CARE  NOT AVAILABLE  BROCKTON  "
      ]
     },
     "execution_count": 23,
     "metadata": {},
     "output_type": "execute_result"
    }
   ],
   "source": [
    "hospital2_df.head()"
   ]
  },
  {
   "cell_type": "code",
   "execution_count": 24,
   "metadata": {},
   "outputs": [],
   "source": [
    "quality_imu = quality_df[\"IMU Score\"]\n",
    "quality_county = quality_df[\"COUNTY EQUIVALENT NAME\"]\n",
    "quality_state= quality_df[\"State Abbreviation\"]\n",
    "quality_zip = quality_df['Common State County FIPS Code']\n",
    "quality_name = quality_df['Complete County Name']\n",
    "quality_providers = quality_df[\"Designation Population in a Medically Underserved Area/Population (MUA/P)\"]\n",
    "\n",
    "updated_quality_df = pd.DataFrame({\n",
    "    \n",
    "    \n",
    "    \"State\": quality_state,\n",
    "    \"IMU Score\": quality_imu,\n",
    "    \"Zipcode\": quality_zip,\n",
    "    \"County Name\": quality_name,\n",
    "    \"Population Underserved\": quality_providers\n",
    "\n",
    "})\n"
   ]
  },
  {
   "cell_type": "code",
   "execution_count": 25,
   "metadata": {},
   "outputs": [
    {
     "data": {
      "text/plain": [
       "13258"
      ]
     },
     "execution_count": 25,
     "metadata": {},
     "output_type": "execute_result"
    }
   ],
   "source": [
    "updated_quality_df.duplicated().sum()"
   ]
  },
  {
   "cell_type": "code",
   "execution_count": 26,
   "metadata": {},
   "outputs": [],
   "source": [
    "quality1_df = updated_quality_df[[\"State\",\"IMU Score\", \"County Name\", \"Population Underserved\"]]\n",
    "\n",
    "quality1_df.head()\n",
    "quality1_df.to_csv(\"./csv_references/quality1_df.csv\", header=True, index=True)"
   ]
  },
  {
   "cell_type": "code",
   "execution_count": 27,
   "metadata": {},
   "outputs": [
    {
     "data": {
      "text/html": [
       "<div>\n",
       "<style scoped>\n",
       "    .dataframe tbody tr th:only-of-type {\n",
       "        vertical-align: middle;\n",
       "    }\n",
       "\n",
       "    .dataframe tbody tr th {\n",
       "        vertical-align: top;\n",
       "    }\n",
       "\n",
       "    .dataframe thead th {\n",
       "        text-align: right;\n",
       "    }\n",
       "</style>\n",
       "<table border=\"1\" class=\"dataframe\">\n",
       "  <thead>\n",
       "    <tr style=\"text-align: right;\">\n",
       "      <th></th>\n",
       "      <th>State</th>\n",
       "      <th>IMU Score</th>\n",
       "      <th>Zipcode</th>\n",
       "      <th>County Name</th>\n",
       "      <th>Population Underserved</th>\n",
       "    </tr>\n",
       "  </thead>\n",
       "  <tbody>\n",
       "    <tr>\n",
       "      <th>0</th>\n",
       "      <td>PW</td>\n",
       "      <td>42.5</td>\n",
       "      <td>70002</td>\n",
       "      <td>Aimeliik State</td>\n",
       "      <td>10762</td>\n",
       "    </tr>\n",
       "    <tr>\n",
       "      <th>1</th>\n",
       "      <td>PW</td>\n",
       "      <td>42.5</td>\n",
       "      <td>70100</td>\n",
       "      <td>Kayangel State</td>\n",
       "      <td>10762</td>\n",
       "    </tr>\n",
       "    <tr>\n",
       "      <th>2</th>\n",
       "      <td>PW</td>\n",
       "      <td>42.5</td>\n",
       "      <td>70218</td>\n",
       "      <td>Ngarchelong State</td>\n",
       "      <td>10762</td>\n",
       "    </tr>\n",
       "    <tr>\n",
       "      <th>3</th>\n",
       "      <td>PW</td>\n",
       "      <td>42.5</td>\n",
       "      <td>70222</td>\n",
       "      <td>Ngardmau State</td>\n",
       "      <td>10762</td>\n",
       "    </tr>\n",
       "    <tr>\n",
       "      <th>4</th>\n",
       "      <td>PW</td>\n",
       "      <td>42.5</td>\n",
       "      <td>70050</td>\n",
       "      <td>Hatoboheit State</td>\n",
       "      <td>10762</td>\n",
       "    </tr>\n",
       "  </tbody>\n",
       "</table>\n",
       "</div>"
      ],
      "text/plain": [
       "  State IMU Score Zipcode        County Name Population Underserved\n",
       "0    PW      42.5   70002     Aimeliik State                  10762\n",
       "1    PW      42.5   70100     Kayangel State                  10762\n",
       "2    PW      42.5   70218  Ngarchelong State                  10762\n",
       "3    PW      42.5   70222     Ngardmau State                  10762\n",
       "4    PW      42.5   70050   Hatoboheit State                  10762"
      ]
     },
     "execution_count": 27,
     "metadata": {},
     "output_type": "execute_result"
    }
   ],
   "source": [
    "updated_quality_df.head()"
   ]
  },
  {
   "cell_type": "code",
   "execution_count": 28,
   "metadata": {},
   "outputs": [
    {
     "data": {
      "text/plain": [
       "Lat            object\n",
       "Lng            object\n",
       "County Name    object\n",
       "dtype: object"
      ]
     },
     "execution_count": 28,
     "metadata": {},
     "output_type": "execute_result"
    }
   ],
   "source": [
    "county_lat = county_df[\"INTPTLAT\"]\n",
    "county_long = county_df[\"INTPTLONG\"]\n",
    "county_name = county_df[\"NAME\"]\n",
    "\n",
    "    \n",
    "county_df = pd.DataFrame({\n",
    "    \n",
    "    \n",
    "    \"Lat\": county_lat,\n",
    "    \"Lng\": county_long,\n",
    "    \"County Name\": county_name\n",
    "\n",
    "})\n",
    "county_df.to_csv(\"./csv_references/county_df.csv\", header=True, index=True)\n",
    "county_df.dtypes\n"
   ]
  },
  {
   "cell_type": "code",
   "execution_count": 29,
   "metadata": {},
   "outputs": [],
   "source": [
    "df1 = pd.merge(\n",
    "    updated_quality_df, county_df, how=\"inner\", on=[\"County Name\"])\n",
    "df2 = df1.set_index(\"County Name\")\n",
    "\n",
    "df2.dropna()\n",
    "df2.to_csv(\"./csv_references/final_zip.csv\", header=True, index=True)"
   ]
  },
  {
   "cell_type": "code",
   "execution_count": null,
   "metadata": {},
   "outputs": [],
   "source": []
  },
  {
   "cell_type": "code",
   "execution_count": null,
   "metadata": {},
   "outputs": [],
   "source": []
  }
 ],
 "metadata": {
  "kernelspec": {
   "display_name": "Python 3",
   "language": "python",
   "name": "python3"
  },
  "language_info": {
   "codemirror_mode": {
    "name": "ipython",
    "version": 3
   },
   "file_extension": ".py",
   "mimetype": "text/x-python",
   "name": "python",
   "nbconvert_exporter": "python",
   "pygments_lexer": "ipython3",
   "version": "3.6.5"
  }
 },
 "nbformat": 4,
 "nbformat_minor": 2
}
