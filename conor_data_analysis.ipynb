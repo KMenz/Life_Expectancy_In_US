{
 "cells": [
  {
   "cell_type": "code",
   "execution_count": 9,
   "metadata": {},
   "outputs": [],
   "source": [
    "from config import gkey\n",
    "import gmaps\n",
    "import requests\n",
    "import time\n",
    "import matplotlib.pyplot as plt\n",
    "import pandas as pd\n",
    "import numpy as np"
   ]
  },
  {
   "cell_type": "code",
   "execution_count": 10,
   "metadata": {},
   "outputs": [],
   "source": [
    "hospital = \"./csv_references/hospitaldf.csv\"\n",
    "hospital_df = pd.read_csv(hospital)\n"
   ]
  },
  {
   "cell_type": "code",
   "execution_count": 11,
   "metadata": {},
   "outputs": [],
   "source": [
    "gmaps.configure(api_key=gkey)"
   ]
  },
  {
   "cell_type": "code",
   "execution_count": 12,
   "metadata": {},
   "outputs": [],
   "source": [
    "hospital_rate = hospital_df[\"Name\"].tolist()\n",
    "\n",
    "locations = hospital_df[[\"Latitude\", \"Longitude\"]].astype(float)"
   ]
  },
  {
   "cell_type": "code",
   "execution_count": 13,
   "metadata": {},
   "outputs": [],
   "source": [
    "hospital_layer = gmaps.symbol_layer(\n",
    "    locations, fill_color='rgba(0, 150, 0, 0.4)',\n",
    "    stroke_color='rgba(0, 0, 150, 0.4)', scale=2,\n",
    "    info_box_content=[f\"Hospital name: {Name}\" for Name in hospital_rate]\n",
    ")\n",
    "\n",
    "\n",
    "fig = gmaps.figure()\n",
    "fig.add_layer(hospital_layer)"
   ]
  },
  {
   "cell_type": "code",
   "execution_count": null,
   "metadata": {},
   "outputs": [],
   "source": []
  },
  {
   "cell_type": "code",
   "execution_count": 14,
   "metadata": {},
   "outputs": [],
   "source": [
    "combined = \"./csv_references/final_zip.csv\"\n",
    "heat_df = pd.read_csv(combined)\n",
    "\n",
    "df2 = heat_df.set_index(\"County Name\")\n",
    "df3 = df2[df2[\"IMU Score\"] < 60]\n",
    "\n"
   ]
  },
  {
   "cell_type": "code",
   "execution_count": 16,
   "metadata": {},
   "outputs": [],
   "source": [
    "locations = df3[[\"Lat\", \"Lng\"]].astype('float64')\n",
    "\n",
    "IMU_rate = df3[\"IMU Score\"].astype('float64')"
   ]
  },
  {
   "cell_type": "code",
   "execution_count": null,
   "metadata": {},
   "outputs": [],
   "source": [
    "fig = gmaps.figure()\n",
    "\n",
    "heat_layer = gmaps.heatmap_layer(locations, weights=IMU_rate, \n",
    "                                 dissipating=False, max_intensity=60,\n",
    "                                 point_radius = .3)\n",
    "\n",
    "\n",
    "heat_layer.dissipating = False\n",
    "heat_layer.max_intensity = 60\n",
    "heat_layer.point_radius = .3\n",
    "\n",
    "fig.add_layer(heat_layer)\n",
    "\n"
   ]
  },
  {
   "cell_type": "code",
   "execution_count": null,
   "metadata": {},
   "outputs": [],
   "source": []
  },
  {
   "cell_type": "code",
   "execution_count": null,
   "metadata": {},
   "outputs": [],
   "source": []
  },
  {
   "cell_type": "code",
   "execution_count": null,
   "metadata": {},
   "outputs": [],
   "source": []
  },
  {
   "cell_type": "code",
   "execution_count": null,
   "metadata": {
    "scrolled": true
   },
   "outputs": [],
   "source": [
    "fig = gmaps.figure()\n",
    "\n",
    "fig.add_layer(heat_layer)\n",
    "fig.add_layer(hospital_layer)\n",
    "\n"
   ]
  },
  {
   "cell_type": "code",
   "execution_count": null,
   "metadata": {},
   "outputs": [],
   "source": []
  }
 ],
 "metadata": {
  "kernelspec": {
   "display_name": "Python 3",
   "language": "python",
   "name": "python3"
  },
  "language_info": {
   "codemirror_mode": {
    "name": "ipython",
    "version": 3
   },
   "file_extension": ".py",
   "mimetype": "text/x-python",
   "name": "python",
   "nbconvert_exporter": "python",
   "pygments_lexer": "ipython3",
   "version": "3.6.5"
  }
 },
 "nbformat": 4,
 "nbformat_minor": 2
}
