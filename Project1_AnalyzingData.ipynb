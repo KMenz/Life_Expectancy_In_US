{
 "cells": [
  {
   "cell_type": "markdown",
   "metadata": {},
   "source": [
    "## PROJECT 1: ANALYZING DATA"
   ]
  },
  {
   "cell_type": "markdown",
   "metadata": {},
   "source": [
    "## ----------------------------------------------------------------------------------------------"
   ]
  },
  {
   "cell_type": "markdown",
   "metadata": {},
   "source": [
    "## Angela Spirou's Analysis"
   ]
  },
  {
   "cell_type": "markdown",
   "metadata": {},
   "source": [
    "## ----------------------------------------------------------------------------------------------"
   ]
  },
  {
   "cell_type": "code",
   "execution_count": 89,
   "metadata": {},
   "outputs": [],
   "source": [
    "# Import Dependencies\n",
    "import pandas as pd\n",
    "import seaborn as sns\n",
    "import numpy as np\n",
    "import matplotlib.pyplot as plt\n",
    "from scipy.stats import sem, ttest_ind"
   ]
  },
  {
   "cell_type": "code",
   "execution_count": 90,
   "metadata": {},
   "outputs": [
    {
     "data": {
      "text/html": [
       "<div>\n",
       "<style scoped>\n",
       "    .dataframe tbody tr th:only-of-type {\n",
       "        vertical-align: middle;\n",
       "    }\n",
       "\n",
       "    .dataframe tbody tr th {\n",
       "        vertical-align: top;\n",
       "    }\n",
       "\n",
       "    .dataframe thead th {\n",
       "        text-align: right;\n",
       "    }\n",
       "</style>\n",
       "<table border=\"1\" class=\"dataframe\">\n",
       "  <thead>\n",
       "    <tr style=\"text-align: right;\">\n",
       "      <th></th>\n",
       "      <th>Gender</th>\n",
       "      <th>Percentile</th>\n",
       "      <th>Year</th>\n",
       "      <th>Life Expectancy Adjusted</th>\n",
       "    </tr>\n",
       "  </thead>\n",
       "  <tbody>\n",
       "    <tr>\n",
       "      <th>0</th>\n",
       "      <td>F</td>\n",
       "      <td>1</td>\n",
       "      <td>2001</td>\n",
       "      <td>79.893463</td>\n",
       "    </tr>\n",
       "    <tr>\n",
       "      <th>1</th>\n",
       "      <td>F</td>\n",
       "      <td>1</td>\n",
       "      <td>2002</td>\n",
       "      <td>79.410622</td>\n",
       "    </tr>\n",
       "    <tr>\n",
       "      <th>2</th>\n",
       "      <td>F</td>\n",
       "      <td>1</td>\n",
       "      <td>2003</td>\n",
       "      <td>79.572174</td>\n",
       "    </tr>\n",
       "    <tr>\n",
       "      <th>3</th>\n",
       "      <td>F</td>\n",
       "      <td>1</td>\n",
       "      <td>2004</td>\n",
       "      <td>80.092476</td>\n",
       "    </tr>\n",
       "    <tr>\n",
       "      <th>4</th>\n",
       "      <td>F</td>\n",
       "      <td>1</td>\n",
       "      <td>2005</td>\n",
       "      <td>80.465935</td>\n",
       "    </tr>\n",
       "  </tbody>\n",
       "</table>\n",
       "</div>"
      ],
      "text/plain": [
       "  Gender  Percentile  Year  Life Expectancy Adjusted\n",
       "0      F           1  2001                 79.893463\n",
       "1      F           1  2002                 79.410622\n",
       "2      F           1  2003                 79.572174\n",
       "3      F           1  2004                 80.092476\n",
       "4      F           1  2005                 80.465935"
      ]
     },
     "execution_count": 90,
     "metadata": {},
     "output_type": "execute_result"
    }
   ],
   "source": [
    "# Create a reference the CSV file desired\n",
    "csv_path = \"csv_references/clean_nat_gen_renamed.csv\"\n",
    "\n",
    "# Read the CSV into a Pandas DataFrame\n",
    "clean_nat_gen_renamed = pd.read_csv(csv_path)\n",
    "\n",
    "# Print the first five rows of data to the screen\n",
    "clean_nat_gen_renamed.head()"
   ]
  },
  {
   "cell_type": "code",
   "execution_count": 91,
   "metadata": {},
   "outputs": [],
   "source": [
    "# Create dfs for both males and females\n",
    "nat_f = clean_nat_gen_renamed.loc[clean_nat_gen_renamed[\"Gender\"] == \"F\"]\n",
    "nat_m = clean_nat_gen_renamed.loc[clean_nat_gen_renamed[\"Gender\"] == \"M\"]"
   ]
  },
  {
   "cell_type": "code",
   "execution_count": 92,
   "metadata": {},
   "outputs": [
    {
     "data": {
      "text/plain": [
       "Year\n",
       "2001    84.123293\n",
       "2002    84.422436\n",
       "2003    84.553474\n",
       "2004    84.888545\n",
       "2005    85.120959\n",
       "2006    85.350778\n",
       "2007    85.779769\n",
       "2008    85.954438\n",
       "2009    85.855385\n",
       "2010    86.124832\n",
       "2011    86.262001\n",
       "2012    86.258260\n",
       "2013    86.316370\n",
       "2014    86.549149\n",
       "Name: Life Expectancy Adjusted, dtype: float64"
      ]
     },
     "execution_count": 92,
     "metadata": {},
     "output_type": "execute_result"
    }
   ],
   "source": [
    "# Gain average life expectancy per year per gender\n",
    "nat_f_avg = nat_f.groupby([\"Year\"]).mean()[\"Life Expectancy Adjusted\"]\n",
    "nat_f_avg"
   ]
  },
  {
   "cell_type": "code",
   "execution_count": 93,
   "metadata": {},
   "outputs": [
    {
     "data": {
      "text/plain": [
       "Year\n",
       "2001    80.754288\n",
       "2002    80.726148\n",
       "2003    80.913683\n",
       "2004    81.317760\n",
       "2005    81.554713\n",
       "2006    81.781294\n",
       "2007    82.109650\n",
       "2008    82.066193\n",
       "2009    82.078059\n",
       "2010    82.324108\n",
       "2011    82.407611\n",
       "2012    82.229739\n",
       "2013    82.342400\n",
       "2014    82.669289\n",
       "Name: Life Expectancy Adjusted, dtype: float64"
      ]
     },
     "execution_count": 93,
     "metadata": {},
     "output_type": "execute_result"
    }
   ],
   "source": [
    "nat_m_avg = nat_m.groupby([\"Year\"]).mean()[\"Life Expectancy Adjusted\"]\n",
    "nat_m_avg"
   ]
  },
  {
   "cell_type": "code",
   "execution_count": 94,
   "metadata": {},
   "outputs": [
    {
     "name": "stdout",
     "output_type": "stream",
     "text": [
      "t-statistics is 13.641185720203596.\n",
      "p-value is 4.4270493407937153e-13.\n"
     ]
    }
   ],
   "source": [
    "# t-test to look at statistical differences between genders\n",
    "(t_stat, p) = ttest_ind(nat_f_avg, nat_m_avg, equal_var=False)\n",
    "print(\"t-statistics is {}.\".format(t_stat))\n",
    "print(\"p-value is {}.\".format(p))"
   ]
  },
  {
   "cell_type": "code",
   "execution_count": 95,
   "metadata": {},
   "outputs": [
    {
     "data": {
      "image/png": "[encoded data removed]",
      "text/plain": [
       "<Figure size 720x360 with 1 Axes>"
      ]
     },
     "metadata": {
      "needs_background": "light"
     },
     "output_type": "display_data"
    }
   ],
   "source": [
    "# Create line graph\n",
    "nat_f_avg, = plt.plot(nat_f_avg, label=\"Female\")\n",
    "nat_m_avg, = plt.plot(nat_m_avg, label = \"Male\")\n",
    "\n",
    "plt.title(\"Life Expectancy Over Time By Gender\")\n",
    "plt.xlabel(\"Year\")\n",
    "plt.ylabel(\"Age\")\n",
    "plt.grid(True)\n",
    "plt.legend()\n",
    "\n",
    "# Save line graph as .png\n",
    "plt.savefig(\"chart_images/nat_gen_fig.png\")\n",
    "\n",
    "plt.show()"
   ]
  },
  {
   "cell_type": "markdown",
   "metadata": {},
   "source": [
    "## ----------------------------------------------------------------------------------------------"
   ]
  },
  {
   "cell_type": "markdown",
   "metadata": {},
   "source": [
    "## Lauren Gama's Analysis"
   ]
  },
  {
   "cell_type": "markdown",
   "metadata": {},
   "source": [
    "## ----------------------------------------------------------------------------------------------"
   ]
  },
  {
   "cell_type": "code",
   "execution_count": 96,
   "metadata": {},
   "outputs": [
    {
     "data": {
      "text/html": [
       "<div>\n",
       "<style scoped>\n",
       "    .dataframe tbody tr th:only-of-type {\n",
       "        vertical-align: middle;\n",
       "    }\n",
       "\n",
       "    .dataframe tbody tr th {\n",
       "        vertical-align: top;\n",
       "    }\n",
       "\n",
       "    .dataframe thead th {\n",
       "        text-align: right;\n",
       "    }\n",
       "</style>\n",
       "<table border=\"1\" class=\"dataframe\">\n",
       "  <thead>\n",
       "    <tr style=\"text-align: right;\">\n",
       "      <th></th>\n",
       "      <th>gnd</th>\n",
       "      <th>pctile</th>\n",
       "      <th>year</th>\n",
       "      <th>le_raceadj</th>\n",
       "      <th>quartiles</th>\n",
       "    </tr>\n",
       "  </thead>\n",
       "  <tbody>\n",
       "    <tr>\n",
       "      <th>0</th>\n",
       "      <td>F</td>\n",
       "      <td>1</td>\n",
       "      <td>2001</td>\n",
       "      <td>79.893463</td>\n",
       "      <td>Q1</td>\n",
       "    </tr>\n",
       "    <tr>\n",
       "      <th>1</th>\n",
       "      <td>F</td>\n",
       "      <td>1</td>\n",
       "      <td>2002</td>\n",
       "      <td>79.410622</td>\n",
       "      <td>Q1</td>\n",
       "    </tr>\n",
       "    <tr>\n",
       "      <th>2</th>\n",
       "      <td>F</td>\n",
       "      <td>1</td>\n",
       "      <td>2003</td>\n",
       "      <td>79.572174</td>\n",
       "      <td>Q1</td>\n",
       "    </tr>\n",
       "    <tr>\n",
       "      <th>3</th>\n",
       "      <td>F</td>\n",
       "      <td>1</td>\n",
       "      <td>2004</td>\n",
       "      <td>80.092476</td>\n",
       "      <td>Q1</td>\n",
       "    </tr>\n",
       "    <tr>\n",
       "      <th>4</th>\n",
       "      <td>F</td>\n",
       "      <td>1</td>\n",
       "      <td>2005</td>\n",
       "      <td>80.465935</td>\n",
       "      <td>Q1</td>\n",
       "    </tr>\n",
       "  </tbody>\n",
       "</table>\n",
       "</div>"
      ],
      "text/plain": [
       "  gnd  pctile  year  le_raceadj quartiles\n",
       "0   F       1  2001   79.893463        Q1\n",
       "1   F       1  2002   79.410622        Q1\n",
       "2   F       1  2003   79.572174        Q1\n",
       "3   F       1  2004   80.092476        Q1\n",
       "4   F       1  2005   80.465935        Q1"
      ]
     },
     "execution_count": 96,
     "metadata": {},
     "output_type": "execute_result"
    }
   ],
   "source": [
    "import pandas as pd\n",
    "import numpy as np\n",
    "import matplotlib.pyplot as plt\n",
    "import scipy.stats as stats\n",
    "\n",
    "# Name of the CSV file\n",
    "csv_path = 'csv_references/nat_gen_inc.csv'\n",
    "\n",
    "# create df\n",
    "nat_gen_inc = pd.read_csv(csv_path)\n",
    "\n",
    "# Preview of the DataFrame\n",
    "nat_gen_inc.head()"
   ]
  },
  {
   "cell_type": "code",
   "execution_count": 97,
   "metadata": {},
   "outputs": [],
   "source": [
    "# create dataframes for income quartiles\n",
    "nat_gen_q1_df = nat_gen_inc.loc[nat_gen_inc[\"quartiles\"] == \"Q1\"]\n",
    "nat_gen_q2_df = nat_gen_inc.loc[nat_gen_inc[\"quartiles\"] == \"Q2\"]\n",
    "nat_gen_q3_df = nat_gen_inc.loc[nat_gen_inc[\"quartiles\"] == \"Q3\"]\n",
    "nat_gen_q4_df = nat_gen_inc.loc[nat_gen_inc[\"quartiles\"] == \"Q4\"]"
   ]
  },
  {
   "cell_type": "code",
   "execution_count": 98,
   "metadata": {},
   "outputs": [],
   "source": [
    "# group life expectancy by year\n",
    "nat_gen_q1 = nat_gen_q1_df.groupby('year').mean()['le_raceadj']\n",
    "nat_gen_q2 = nat_gen_q2_df.groupby('year').mean()['le_raceadj']\n",
    "nat_gen_q3 = nat_gen_q3_df.groupby('year').mean()['le_raceadj']\n",
    "nat_gen_q4 = nat_gen_q4_df.groupby('year').mean()['le_raceadj']"
   ]
  },
  {
   "cell_type": "code",
   "execution_count": 99,
   "metadata": {},
   "outputs": [
    {
     "data": {
      "image/png": "[encoded data removed]",
      "text/plain": [
       "<Figure size 720x360 with 1 Axes>"
      ]
     },
     "metadata": {
      "needs_background": "light"
     },
     "output_type": "display_data"
    }
   ],
   "source": [
    "# plot LE by year & income\n",
    "nat_gen_q1_plt, = plt.plot(nat_gen_q1, label=\"Q1\")\n",
    "nat_gen_q2_plt, = plt.plot(nat_gen_q2, label=\"Q2\")\n",
    "nat_gen_q3_plt, = plt.plot(nat_gen_q3, label=\"Q3\")\n",
    "nat_gen_q4_plt, = plt.plot(nat_gen_q4, label=\"Q4\")\n",
    "\n",
    "plt.title(\"National Life Expectancy by Income\")\n",
    "plt.xlabel(\"Year\")\n",
    "plt.ylabel(\"Life Expectancy (years)\")\n",
    "\n",
    "plt.ylim(75,90)\n",
    "\n",
    "legend = plt.legend(handles=[nat_gen_q1_plt, nat_gen_q2_plt, nat_gen_q3_plt, nat_gen_q4_plt], \n",
    "                    fontsize=\"small\", framealpha=1, bbox_to_anchor=(.99, 1), loc='upper left')\n",
    "\n",
    "plt.savefig(\"chart_images/LE by Income.png\")\n",
    "\n",
    "plt.show()"
   ]
  },
  {
   "cell_type": "code",
   "execution_count": 100,
   "metadata": {},
   "outputs": [],
   "source": [
    "# create dataframes for female income quartiles\n",
    "nat_f_q1_df = nat_gen_q1_df.loc[nat_gen_q1_df[\"gnd\"] == \"F\"]\n",
    "nat_f_q2_df = nat_gen_q2_df.loc[nat_gen_q2_df[\"gnd\"] == \"F\"]\n",
    "nat_f_q3_df = nat_gen_q3_df.loc[nat_gen_q3_df[\"gnd\"] == \"F\"]\n",
    "nat_f_q4_df = nat_gen_q4_df.loc[nat_gen_q4_df[\"gnd\"] == \"F\"]"
   ]
  },
  {
   "cell_type": "code",
   "execution_count": 101,
   "metadata": {},
   "outputs": [],
   "source": [
    "# group female LE by year\n",
    "nat_f_q1 = nat_f_q1_df.groupby('year').mean()['le_raceadj']\n",
    "nat_f_q2 = nat_f_q2_df.groupby('year').mean()['le_raceadj']\n",
    "nat_f_q3 = nat_f_q3_df.groupby('year').mean()['le_raceadj']\n",
    "nat_f_q4 = nat_f_q4_df.groupby('year').mean()['le_raceadj']"
   ]
  },
  {
   "cell_type": "code",
   "execution_count": 102,
   "metadata": {},
   "outputs": [
    {
     "data": {
      "image/png": "[encoded data removed]",
      "text/plain": [
       "<Figure size 720x360 with 1 Axes>"
      ]
     },
     "metadata": {
      "needs_background": "light"
     },
     "output_type": "display_data"
    }
   ],
   "source": [
    "# plot female LE by year & income\n",
    "nat_f_q1_plt, = plt.plot(nat_f_q1, label=\"Q1\")\n",
    "nat_f_q2_plt, = plt.plot(nat_f_q2, label=\"Q2\")\n",
    "nat_f_q3_plt, = plt.plot(nat_f_q3, label=\"Q3\")\n",
    "nat_f_q4_plt, = plt.plot(nat_f_q4, label=\"Q4\")\n",
    "\n",
    "plt.title(\"Female National Life Expectancy by Income\")\n",
    "plt.xlabel(\"Year\")\n",
    "plt.ylabel(\"Life Expectancy (years)\")\n",
    "\n",
    "plt.ylim(75,90)\n",
    "\n",
    "legend = plt.legend(handles=[nat_f_q1_plt, nat_f_q2_plt, nat_f_q3_plt, nat_f_q4_plt], \n",
    "                    fontsize=\"small\", framealpha=1, bbox_to_anchor=(.99, 1), loc='upper left')\n",
    "\n",
    "plt.savefig(\"chart_images/Female LE by Income.png\")\n",
    "\n",
    "plt.show()"
   ]
  },
  {
   "cell_type": "code",
   "execution_count": 103,
   "metadata": {},
   "outputs": [],
   "source": [
    "# create dataframes for male income quartiles\n",
    "nat_m_q1_df = nat_gen_q1_df.loc[nat_gen_q1_df[\"gnd\"] == \"M\"]\n",
    "nat_m_q2_df = nat_gen_q2_df.loc[nat_gen_q2_df[\"gnd\"] == \"M\"]\n",
    "nat_m_q3_df = nat_gen_q3_df.loc[nat_gen_q3_df[\"gnd\"] == \"M\"]\n",
    "nat_m_q4_df = nat_gen_q4_df.loc[nat_gen_q4_df[\"gnd\"] == \"M\"]"
   ]
  },
  {
   "cell_type": "code",
   "execution_count": 104,
   "metadata": {},
   "outputs": [],
   "source": [
    "# group male LE by year\n",
    "nat_m_q1 = nat_m_q1_df.groupby('year').mean()['le_raceadj']\n",
    "nat_m_q2 = nat_m_q2_df.groupby('year').mean()['le_raceadj']\n",
    "nat_m_q3 = nat_m_q3_df.groupby('year').mean()['le_raceadj']\n",
    "nat_m_q4 = nat_m_q4_df.groupby('year').mean()['le_raceadj']"
   ]
  },
  {
   "cell_type": "code",
   "execution_count": 105,
   "metadata": {},
   "outputs": [
    {
     "data": {
      "image/png": "[encoded data removed]",
      "text/plain": [
       "<Figure size 720x360 with 1 Axes>"
      ]
     },
     "metadata": {
      "needs_background": "light"
     },
     "output_type": "display_data"
    }
   ],
   "source": [
    "# plot male LE by year & income\n",
    "nat_m_q1_plt, = plt.plot(nat_m_q1, label=\"Q1\")\n",
    "nat_m_q2_plt, = plt.plot(nat_m_q2, label=\"Q2\")\n",
    "nat_m_q3_plt, = plt.plot(nat_m_q3, label=\"Q3\")\n",
    "nat_m_q4_plt, = plt.plot(nat_m_q4, label=\"Q4\")\n",
    "\n",
    "plt.title(\"Male National Life Expectancy by Income\")\n",
    "plt.xlabel(\"Year\")\n",
    "plt.ylabel(\"Life Expectancy (years)\")\n",
    "\n",
    "plt.ylim(75,90)\n",
    "\n",
    "legend = plt.legend(handles=[nat_m_q1_plt, nat_m_q2_plt, nat_m_q3_plt, nat_m_q4_plt], \n",
    "                    fontsize=\"small\", framealpha=1, bbox_to_anchor=(.99, 1), loc='upper left')\n",
    "\n",
    "plt.savefig(\"chart_images/Male LE by Income.png\")\n",
    "\n",
    "plt.show()"
   ]
  },
  {
   "cell_type": "code",
   "execution_count": 106,
   "metadata": {},
   "outputs": [
    {
     "data": {
      "image/png": "[encoded data removed]",
      "text/plain": [
       "<Figure size 1440x720 with 1 Axes>"
      ]
     },
     "metadata": {
      "needs_background": "light"
     },
     "output_type": "display_data"
    }
   ],
   "source": [
    "# Create a boxplot to compare means INCOMES F&M\n",
    "nat_gen_inc.boxplot(\"le_raceadj\", by=\"quartiles\", figsize=(20, 10))\n",
    "\n",
    "plt.title(\"Compare Means by Income Quartiles\")\n",
    "plt.xlabel(\"Quartile\")\n",
    "plt.ylabel(\"Life Expectancy (years)\")\n",
    "\n",
    "plt.savefig(\"chart_images/Income ANOVA.png\")"
   ]
  },
  {
   "cell_type": "code",
   "execution_count": 107,
   "metadata": {},
   "outputs": [],
   "source": [
    "# Extract individual groups\n",
    "groupQ1 = nat_gen_inc[nat_gen_inc[\"quartiles\"] == \"Q1\"][\"le_raceadj\"]\n",
    "groupQ2 = nat_gen_inc[nat_gen_inc[\"quartiles\"] == \"Q2\"][\"le_raceadj\"]\n",
    "groupQ3 = nat_gen_inc[nat_gen_inc[\"quartiles\"] == \"Q3\"][\"le_raceadj\"]\n",
    "groupQ4 = nat_gen_inc[nat_gen_inc[\"quartiles\"] == \"Q4\"][\"le_raceadj\"]"
   ]
  },
  {
   "cell_type": "code",
   "execution_count": 108,
   "metadata": {},
   "outputs": [
    {
     "data": {
      "text/plain": [
       "F_onewayResult(statistic=1181.1832194781289, pvalue=0.0)"
      ]
     },
     "execution_count": 108,
     "metadata": {},
     "output_type": "execute_result"
    }
   ],
   "source": [
    "# Perform the ANOVA\n",
    "stats.f_oneway(groupQ1, groupQ2, groupQ3, groupQ4)"
   ]
  },
  {
   "cell_type": "code",
   "execution_count": 109,
   "metadata": {},
   "outputs": [],
   "source": [
    "# Extract individual groups\n",
    "groupFQ1 = nat_f_q1_df[\"le_raceadj\"]\n",
    "groupMQ1 = nat_m_q1_df[\"le_raceadj\"]"
   ]
  },
  {
   "cell_type": "code",
   "execution_count": 110,
   "metadata": {},
   "outputs": [
    {
     "data": {
      "text/plain": [
       "Ttest_indResult(statistic=56.18424611704008, pvalue=7.190316269820512e-258)"
      ]
     },
     "execution_count": 110,
     "metadata": {},
     "output_type": "execute_result"
    }
   ],
   "source": [
    "stats.ttest_ind(groupFQ1, groupMQ1, equal_var=False)"
   ]
  },
  {
   "cell_type": "code",
   "execution_count": 111,
   "metadata": {},
   "outputs": [],
   "source": [
    "# Extract individual groups\n",
    "groupFQ4 = nat_f_q4_df[\"le_raceadj\"]\n",
    "groupMQ4 = nat_m_q4_df[\"le_raceadj\"]"
   ]
  },
  {
   "cell_type": "code",
   "execution_count": 112,
   "metadata": {},
   "outputs": [
    {
     "data": {
      "text/plain": [
       "Ttest_indResult(statistic=19.654905493994956, pvalue=1.0478626117207194e-68)"
      ]
     },
     "execution_count": 112,
     "metadata": {},
     "output_type": "execute_result"
    }
   ],
   "source": [
    "stats.ttest_ind(groupFQ4, groupMQ4, equal_var=False)"
   ]
  },
  {
   "cell_type": "markdown",
   "metadata": {},
   "source": [
    "## ----------------------------------------------------------------------------------------------"
   ]
  },
  {
   "cell_type": "markdown",
   "metadata": {},
   "source": [
    "## Kevin Menz's Analysis"
   ]
  },
  {
   "cell_type": "markdown",
   "metadata": {},
   "source": [
    "## ----------------------------------------------------------------------------------------------"
   ]
  },
  {
   "cell_type": "code",
   "execution_count": 113,
   "metadata": {},
   "outputs": [],
   "source": [
    "#Import Dependencies\n",
    "import pandas as pd\n",
    "import numpy as np\n",
    "import matplotlib.pyplot as plt\n",
    "\n",
    "csv = 'csv_references/state_averages_cleaned.csv'"
   ]
  },
  {
   "cell_type": "code",
   "execution_count": 114,
   "metadata": {},
   "outputs": [
    {
     "data": {
      "text/html": [
       "<div>\n",
       "<style scoped>\n",
       "    .dataframe tbody tr th:only-of-type {\n",
       "        vertical-align: middle;\n",
       "    }\n",
       "\n",
       "    .dataframe tbody tr th {\n",
       "        vertical-align: top;\n",
       "    }\n",
       "\n",
       "    .dataframe thead th {\n",
       "        text-align: right;\n",
       "    }\n",
       "</style>\n",
       "<table border=\"1\" class=\"dataframe\">\n",
       "  <thead>\n",
       "    <tr style=\"text-align: right;\">\n",
       "      <th></th>\n",
       "      <th>Abbrv</th>\n",
       "      <th>State</th>\n",
       "      <th>LE Q1 F</th>\n",
       "      <th>LE Q2 F</th>\n",
       "      <th>LE Q3 F</th>\n",
       "      <th>LE Q4 F</th>\n",
       "      <th>LE Q1 M</th>\n",
       "      <th>LE Q2 M</th>\n",
       "      <th>LE Q3 M</th>\n",
       "      <th>LE Q4 M</th>\n",
       "      <th>Female Average</th>\n",
       "      <th>Male Average</th>\n",
       "      <th>Q1 Average</th>\n",
       "      <th>Q2 Average</th>\n",
       "      <th>Q3 Average</th>\n",
       "      <th>Q4 Average</th>\n",
       "      <th>State Average</th>\n",
       "    </tr>\n",
       "  </thead>\n",
       "  <tbody>\n",
       "    <tr>\n",
       "      <th>0</th>\n",
       "      <td>AL</td>\n",
       "      <td>Alabama</td>\n",
       "      <td>82.228058</td>\n",
       "      <td>84.474808</td>\n",
       "      <td>85.808136</td>\n",
       "      <td>87.224434</td>\n",
       "      <td>75.376083</td>\n",
       "      <td>79.430519</td>\n",
       "      <td>82.262962</td>\n",
       "      <td>84.497810</td>\n",
       "      <td>84.933859</td>\n",
       "      <td>80.391844</td>\n",
       "      <td>78.802070</td>\n",
       "      <td>81.952663</td>\n",
       "      <td>84.035549</td>\n",
       "      <td>85.861122</td>\n",
       "      <td>82.662851</td>\n",
       "    </tr>\n",
       "    <tr>\n",
       "      <th>1</th>\n",
       "      <td>AK</td>\n",
       "      <td>Alaska</td>\n",
       "      <td>82.348953</td>\n",
       "      <td>83.712013</td>\n",
       "      <td>85.585838</td>\n",
       "      <td>87.168770</td>\n",
       "      <td>76.639389</td>\n",
       "      <td>80.524376</td>\n",
       "      <td>82.445099</td>\n",
       "      <td>85.575829</td>\n",
       "      <td>84.703893</td>\n",
       "      <td>81.296173</td>\n",
       "      <td>79.494171</td>\n",
       "      <td>82.118195</td>\n",
       "      <td>84.015469</td>\n",
       "      <td>86.372299</td>\n",
       "      <td>83.000033</td>\n",
       "    </tr>\n",
       "    <tr>\n",
       "      <th>2</th>\n",
       "      <td>AZ</td>\n",
       "      <td>Arizona</td>\n",
       "      <td>82.151314</td>\n",
       "      <td>84.147186</td>\n",
       "      <td>85.781685</td>\n",
       "      <td>87.435135</td>\n",
       "      <td>77.007629</td>\n",
       "      <td>80.474632</td>\n",
       "      <td>82.700462</td>\n",
       "      <td>85.230026</td>\n",
       "      <td>84.878830</td>\n",
       "      <td>81.353187</td>\n",
       "      <td>79.579472</td>\n",
       "      <td>82.310909</td>\n",
       "      <td>84.241073</td>\n",
       "      <td>86.332581</td>\n",
       "      <td>83.116009</td>\n",
       "    </tr>\n",
       "    <tr>\n",
       "      <th>3</th>\n",
       "      <td>AR</td>\n",
       "      <td>Arkansas</td>\n",
       "      <td>81.310768</td>\n",
       "      <td>84.123650</td>\n",
       "      <td>85.637344</td>\n",
       "      <td>87.601463</td>\n",
       "      <td>75.763702</td>\n",
       "      <td>79.606911</td>\n",
       "      <td>82.115067</td>\n",
       "      <td>84.158447</td>\n",
       "      <td>84.668306</td>\n",
       "      <td>80.411032</td>\n",
       "      <td>78.537235</td>\n",
       "      <td>81.865281</td>\n",
       "      <td>83.876206</td>\n",
       "      <td>85.879955</td>\n",
       "      <td>82.539669</td>\n",
       "    </tr>\n",
       "    <tr>\n",
       "      <th>4</th>\n",
       "      <td>CA</td>\n",
       "      <td>California</td>\n",
       "      <td>82.946465</td>\n",
       "      <td>83.530724</td>\n",
       "      <td>84.965134</td>\n",
       "      <td>86.939842</td>\n",
       "      <td>78.731621</td>\n",
       "      <td>80.364868</td>\n",
       "      <td>82.369225</td>\n",
       "      <td>85.161736</td>\n",
       "      <td>84.595541</td>\n",
       "      <td>81.656863</td>\n",
       "      <td>80.839043</td>\n",
       "      <td>81.947796</td>\n",
       "      <td>83.667180</td>\n",
       "      <td>86.050789</td>\n",
       "      <td>83.126202</td>\n",
       "    </tr>\n",
       "  </tbody>\n",
       "</table>\n",
       "</div>"
      ],
      "text/plain": [
       "  Abbrv       State    LE Q1 F    LE Q2 F    LE Q3 F    LE Q4 F    LE Q1 M  \\\n",
       "0    AL     Alabama  82.228058  84.474808  85.808136  87.224434  75.376083   \n",
       "1    AK      Alaska  82.348953  83.712013  85.585838  87.168770  76.639389   \n",
       "2    AZ     Arizona  82.151314  84.147186  85.781685  87.435135  77.007629   \n",
       "3    AR    Arkansas  81.310768  84.123650  85.637344  87.601463  75.763702   \n",
       "4    CA  California  82.946465  83.530724  84.965134  86.939842  78.731621   \n",
       "\n",
       "     LE Q2 M    LE Q3 M    LE Q4 M  Female Average  Male Average  Q1 Average  \\\n",
       "0  79.430519  82.262962  84.497810       84.933859     80.391844   78.802070   \n",
       "1  80.524376  82.445099  85.575829       84.703893     81.296173   79.494171   \n",
       "2  80.474632  82.700462  85.230026       84.878830     81.353187   79.579472   \n",
       "3  79.606911  82.115067  84.158447       84.668306     80.411032   78.537235   \n",
       "4  80.364868  82.369225  85.161736       84.595541     81.656863   80.839043   \n",
       "\n",
       "   Q2 Average  Q3 Average  Q4 Average  State Average  \n",
       "0   81.952663   84.035549   85.861122      82.662851  \n",
       "1   82.118195   84.015469   86.372299      83.000033  \n",
       "2   82.310909   84.241073   86.332581      83.116009  \n",
       "3   81.865281   83.876206   85.879955      82.539669  \n",
       "4   81.947796   83.667180   86.050789      83.126202  "
      ]
     },
     "execution_count": 114,
     "metadata": {},
     "output_type": "execute_result"
    }
   ],
   "source": [
    "#Read CSV Into DF\n",
    "states_average_df = pd.read_csv('csv_references/state_averages_cleaned.csv')\n",
    "states_average_df.head()"
   ]
  },
  {
   "cell_type": "code",
   "execution_count": 115,
   "metadata": {},
   "outputs": [],
   "source": [
    "#Get Top 5 Male Averages\n",
    "Male_Average_Top = states_average_df.sort_values('Male Average', ascending = False).reset_index()\n",
    "\n",
    "Male_Average_Top = Male_Average_Top.head()"
   ]
  },
  {
   "cell_type": "code",
   "execution_count": 116,
   "metadata": {},
   "outputs": [],
   "source": [
    "#create variables for bar chart for male average\n",
    "x_axis = np.arange(len(Male_Average_Top['State']))\n",
    "m_avg = Male_Average_Top['Male Average']\n",
    "f_avg = Male_Average_Top['Female Average']"
   ]
  },
  {
   "cell_type": "code",
   "execution_count": 117,
   "metadata": {},
   "outputs": [
    {
     "data": {
      "image/png": "[encoded data removed]",
      "text/plain": [
       "<Figure size 720x360 with 1 Axes>"
      ]
     },
     "metadata": {
      "needs_background": "light"
     },
     "output_type": "display_data"
    }
   ],
   "source": [
    "#Define Subplots and Bar Width For Top Male LE\n",
    "fig, ax = plt.subplots()\n",
    "bar_width = .35\n",
    "\n",
    "#Build Bar Chart For Top Male LE\n",
    "Top_Men_M = ax.bar(x_axis, m_avg, bar_width, color = 'r', alpha = .5, label = 'Male')\n",
    "Top_Men_F = ax.bar(x_axis + bar_width, f_avg, bar_width, color = 'b', alpha = .5, label = 'Female')\n",
    "\n",
    "#Build Tick Locations for Top Male LE\n",
    "tick_locations = [value for value in x_axis]\n",
    "plt.xticks(tick_locations, Male_Average_Top['State'] )\n",
    "\n",
    "#Set Limits and add in labels for Top Male LE\n",
    "plt.ylim(75, 90)\n",
    "plt.title('Top 5 States With Highest Male Life Expectency')\n",
    "plt.xlabel('State')\n",
    "plt.ylabel('Life Expectency (%)')\n",
    "plt.legend()\n",
    "\n",
    "#Create function for data labels\n",
    "def autolabel(rects):\n",
    "    \"\"\"\n",
    "    Attach a text label above each bar displaying its height\n",
    "    \"\"\"\n",
    "    for rect in rects:\n",
    "        height = rect.get_height()\n",
    "        ax.text(rect.get_x() + rect.get_width()/2., height,\n",
    "                '%d' % float(height),\n",
    "                ha='center', va='bottom')\n",
    "\n",
    "autolabel(Top_Men_M)\n",
    "autolabel(Top_Men_F)\n",
    "\n",
    "\n",
    "#Final Touches\n",
    "fig.tight_layout()\n",
    "\n",
    "plt.savefig('chart_images/state_top_male.png')\n",
    "\n",
    "plt.show()"
   ]
  },
  {
   "cell_type": "code",
   "execution_count": 118,
   "metadata": {},
   "outputs": [],
   "source": [
    "#Get Top 5 Female Averages\n",
    "Female_Average_Top = states_average_df.sort_values('Female Average', ascending = False).reset_index()\n",
    "\n",
    "Female_Average_Top = Female_Average_Top.head()"
   ]
  },
  {
   "cell_type": "code",
   "execution_count": 119,
   "metadata": {},
   "outputs": [],
   "source": [
    "#create variables for bar chart for female average\n",
    "x_axis = np.arange(len(Female_Average_Top['State']))\n",
    "m_avg = Female_Average_Top['Male Average']\n",
    "f_avg = Female_Average_Top['Female Average']"
   ]
  },
  {
   "cell_type": "code",
   "execution_count": 120,
   "metadata": {},
   "outputs": [
    {
     "data": {
      "image/png": "[encoded data removed]",
      "text/plain": [
       "<Figure size 720x360 with 1 Axes>"
      ]
     },
     "metadata": {
      "needs_background": "light"
     },
     "output_type": "display_data"
    }
   ],
   "source": [
    "#Define Subplots and Bar Width For Top Female LE\n",
    "fig, ax = plt.subplots()\n",
    "bar_width = .35\n",
    "\n",
    "#Build Bar Chart For Top Female LE\n",
    "Top_Fem_F = ax.bar(x_axis + bar_width, f_avg, bar_width, color = 'b', alpha = .5, label = 'Female')\n",
    "Top_Fem_M = ax.bar(x_axis, m_avg, bar_width, color = 'r', alpha = .5, label = 'Male')\n",
    "\n",
    "\n",
    "#Build Tick Locations for Top Female LE\n",
    "tick_locations = [value for value in x_axis]\n",
    "plt.xticks(tick_locations, Female_Average_Top['State'] )\n",
    "\n",
    "#Set Limits and add in labels for Top Female LE\n",
    "plt.ylim(75, 90)\n",
    "plt.title('Top 5 States With Highest Female Life Expectency')\n",
    "plt.xlabel('State')\n",
    "plt.ylabel('Life Expectency (%)')\n",
    "plt.legend()\n",
    "\n",
    "#Create function for data labels\n",
    "def autolabel(rects):\n",
    "    \"\"\"\n",
    "    Attach a text label above each bar displaying its height\n",
    "    \"\"\"\n",
    "    for rect in rects:\n",
    "        height = rect.get_height()\n",
    "        ax.text(rect.get_x() + rect.get_width()/2., height,\n",
    "                '%d' % float(height),\n",
    "                ha='center', va='bottom')\n",
    "\n",
    "autolabel(Top_Fem_M)\n",
    "autolabel(Top_Fem_F)\n",
    "\n",
    "\n",
    "#Final Touches\n",
    "fig.tight_layout()\n",
    "\n",
    "plt.savefig('chart_images/state_top_female.png')\n",
    "\n",
    "plt.show()"
   ]
  },
  {
   "cell_type": "code",
   "execution_count": 121,
   "metadata": {},
   "outputs": [],
   "source": [
    "#Get Bottom 5 Male Averages\n",
    "Male_Average_Bot = states_average_df.sort_values('Male Average', ascending = True).reset_index()\n",
    "\n",
    "Male_Average_Bot = Male_Average_Bot.head()"
   ]
  },
  {
   "cell_type": "code",
   "execution_count": 122,
   "metadata": {},
   "outputs": [],
   "source": [
    "#create variables for bar chart for male average\n",
    "x_axis = np.arange(len(Male_Average_Bot['State']))\n",
    "m_avg = Male_Average_Bot['Male Average']\n",
    "f_avg = Male_Average_Bot['Female Average']"
   ]
  },
  {
   "cell_type": "code",
   "execution_count": 123,
   "metadata": {},
   "outputs": [
    {
     "data": {
      "image/png": "[encoded data removed]",
      "text/plain": [
       "<Figure size 720x360 with 1 Axes>"
      ]
     },
     "metadata": {
      "needs_background": "light"
     },
     "output_type": "display_data"
    }
   ],
   "source": [
    "#Define Subplots and Bar Width For Bot Male LE\n",
    "fig, ax = plt.subplots()\n",
    "bar_width = .35\n",
    "\n",
    "#Build Bar Chart For Bot Male LE\n",
    "Bot_Men_M = ax.bar(x_axis, m_avg, bar_width, color = 'r', alpha = .5, label = 'Male')\n",
    "Bot_Men_F = ax.bar(x_axis + bar_width, f_avg, bar_width, color = 'b', alpha = .5, label = 'Female')\n",
    "\n",
    "#Build Tick Locations for Bot Male LE\n",
    "tick_locations = [value for value in x_axis]\n",
    "plt.xticks(tick_locations, Male_Average_Bot['State'] )\n",
    "\n",
    "#Set Limits and add in labels for Bot Male LE\n",
    "plt.ylim(75, 90)\n",
    "plt.title('Top 5 States With Lowest Male Life Expectency')\n",
    "plt.xlabel('State')\n",
    "plt.ylabel('Life Expectency (%)')\n",
    "plt.legend()\n",
    "\n",
    "#Create function for data labels\n",
    "def autolabel(rects):\n",
    "    \"\"\"\n",
    "    Attach a text label above each bar displaying its height\n",
    "    \"\"\"\n",
    "    for rect in rects:\n",
    "        height = rect.get_height()\n",
    "        ax.text(rect.get_x() + rect.get_width()/2., height,\n",
    "                '%d' % float(height),\n",
    "                ha='center', va='bottom')\n",
    "        \n",
    "autolabel(Bot_Men_M)\n",
    "autolabel(Bot_Men_F)\n",
    "\n",
    "#Final Touches\n",
    "fig.tight_layout()\n",
    "\n",
    "plt.savefig('chart_images/state_bot_male.png')\n",
    "\n",
    "plt.show()"
   ]
  },
  {
   "cell_type": "code",
   "execution_count": 124,
   "metadata": {},
   "outputs": [],
   "source": [
    "#Get Bottom 5 Female Averages\n",
    "Female_Average_Bot = states_average_df.sort_values('Female Average', ascending = True).reset_index()\n",
    "\n",
    "Female_Average_Bot = Female_Average_Bot.head()"
   ]
  },
  {
   "cell_type": "code",
   "execution_count": 125,
   "metadata": {},
   "outputs": [],
   "source": [
    "#create variables for bar chart for female average\n",
    "x_axis = np.arange(len(Female_Average_Bot['State']))\n",
    "m_avg = Female_Average_Bot['Male Average']\n",
    "f_avg = Female_Average_Bot['Female Average']"
   ]
  },
  {
   "cell_type": "code",
   "execution_count": 126,
   "metadata": {},
   "outputs": [
    {
     "data": {
      "image/png": "[encoded data removed]",
      "text/plain": [
       "<Figure size 720x360 with 1 Axes>"
      ]
     },
     "metadata": {
      "needs_background": "light"
     },
     "output_type": "display_data"
    }
   ],
   "source": [
    "#Define Subplots and Bar Width For Bot female LE\n",
    "fig, ax = plt.subplots()\n",
    "bar_width = .35\n",
    "\n",
    "#Build Bar Chart For Bot female LE\n",
    "Bot_Fem_M = ax.bar(x_axis, m_avg, bar_width, color = 'r', alpha = .5, label = 'Male')\n",
    "Bot_Fem_F = ax.bar(x_axis + bar_width, f_avg, bar_width, color = 'b', alpha = .5, label = 'Female')\n",
    "\n",
    "#Build Tick Locations for Bot female LE\n",
    "tick_locations = [value for value in x_axis]\n",
    "plt.xticks(tick_locations, Female_Average_Bot['State'] )\n",
    "\n",
    "#Set Limits and add in labels for Bot female LE\n",
    "plt.ylim(75, 90)\n",
    "plt.title('Top 5 States With Lowest Female Life Expectency')\n",
    "plt.xlabel('State')\n",
    "plt.ylabel('Life Expectency (%)')\n",
    "plt.legend()\n",
    "\n",
    "#Create function for data labels\n",
    "def autolabel(rects):\n",
    "    \"\"\"\n",
    "    Attach a text label above each bar displaying its height\n",
    "    \"\"\"\n",
    "    for rect in rects:\n",
    "        height = rect.get_height()\n",
    "        ax.text(rect.get_x() + rect.get_width()/2., height,\n",
    "                '%d' % float(height),\n",
    "                ha='center', va='bottom')\n",
    "        \n",
    "autolabel(Bot_Fem_M)\n",
    "autolabel(Bot_Fem_F)\n",
    "\n",
    "\n",
    "#Final Touches\n",
    "fig.tight_layout()\n",
    "\n",
    "plt.savefig('chart_images/state_bot_female.png')\n",
    "\n",
    "plt.show()"
   ]
  },
  {
   "cell_type": "markdown",
   "metadata": {},
   "source": [
    "## ----------------------------------------------------------------------------------------------"
   ]
  },
  {
   "cell_type": "markdown",
   "metadata": {},
   "source": [
    "## Myke London's Analysis"
   ]
  },
  {
   "cell_type": "markdown",
   "metadata": {},
   "source": [
    "## ----------------------------------------------------------------------------------------------"
   ]
  },
  {
   "cell_type": "code",
   "execution_count": 131,
   "metadata": {},
   "outputs": [],
   "source": [
    "import pandas as pd\n",
    "import numpy as np\n",
    "import scipy.stats \n",
    "import matplotlib.pyplot as plt\n",
    "\n",
    "%matplotlib inline\n",
    "plt.rcParams[\"figure.figsize\"] = 10,5"
   ]
  },
  {
   "cell_type": "code",
   "execution_count": 135,
   "metadata": {
    "scrolled": true
   },
   "outputs": [
    {
     "data": {
      "text/html": [
       "<div>\n",
       "<style scoped>\n",
       "    .dataframe tbody tr th:only-of-type {\n",
       "        vertical-align: middle;\n",
       "    }\n",
       "\n",
       "    .dataframe tbody tr th {\n",
       "        vertical-align: top;\n",
       "    }\n",
       "\n",
       "    .dataframe thead th {\n",
       "        text-align: right;\n",
       "    }\n",
       "</style>\n",
       "<table border=\"1\" class=\"dataframe\">\n",
       "  <thead>\n",
       "    <tr style=\"text-align: right;\">\n",
       "      <th></th>\n",
       "      <th>State Abbreviation</th>\n",
       "      <th>State</th>\n",
       "      <th>LE Q1 F</th>\n",
       "      <th>LE Q2 F</th>\n",
       "      <th>LE Q3 F</th>\n",
       "      <th>LE Q4 F</th>\n",
       "      <th>LE Q1 M</th>\n",
       "      <th>LE Q2 M</th>\n",
       "      <th>LE Q3 M</th>\n",
       "      <th>LE Q4 M</th>\n",
       "      <th>Female Average</th>\n",
       "      <th>Male Average</th>\n",
       "      <th>Q1 Average</th>\n",
       "      <th>Q2 Average</th>\n",
       "      <th>Q3 Average</th>\n",
       "      <th>Q4 Average</th>\n",
       "      <th>State Average</th>\n",
       "    </tr>\n",
       "  </thead>\n",
       "  <tbody>\n",
       "    <tr>\n",
       "      <th>0</th>\n",
       "      <td>AL</td>\n",
       "      <td>Alabama</td>\n",
       "      <td>82.228058</td>\n",
       "      <td>84.474808</td>\n",
       "      <td>85.808136</td>\n",
       "      <td>87.224434</td>\n",
       "      <td>75.376083</td>\n",
       "      <td>79.430519</td>\n",
       "      <td>82.262962</td>\n",
       "      <td>84.497810</td>\n",
       "      <td>84.933859</td>\n",
       "      <td>80.391844</td>\n",
       "      <td>78.802070</td>\n",
       "      <td>81.952663</td>\n",
       "      <td>84.035549</td>\n",
       "      <td>85.861122</td>\n",
       "      <td>82.662851</td>\n",
       "    </tr>\n",
       "    <tr>\n",
       "      <th>1</th>\n",
       "      <td>AK</td>\n",
       "      <td>Alaska</td>\n",
       "      <td>82.348953</td>\n",
       "      <td>83.712013</td>\n",
       "      <td>85.585838</td>\n",
       "      <td>87.168770</td>\n",
       "      <td>76.639389</td>\n",
       "      <td>80.524376</td>\n",
       "      <td>82.445099</td>\n",
       "      <td>85.575829</td>\n",
       "      <td>84.703893</td>\n",
       "      <td>81.296173</td>\n",
       "      <td>79.494171</td>\n",
       "      <td>82.118195</td>\n",
       "      <td>84.015469</td>\n",
       "      <td>86.372299</td>\n",
       "      <td>83.000033</td>\n",
       "    </tr>\n",
       "    <tr>\n",
       "      <th>2</th>\n",
       "      <td>AZ</td>\n",
       "      <td>Arizona</td>\n",
       "      <td>82.151314</td>\n",
       "      <td>84.147186</td>\n",
       "      <td>85.781685</td>\n",
       "      <td>87.435135</td>\n",
       "      <td>77.007629</td>\n",
       "      <td>80.474632</td>\n",
       "      <td>82.700462</td>\n",
       "      <td>85.230026</td>\n",
       "      <td>84.878830</td>\n",
       "      <td>81.353187</td>\n",
       "      <td>79.579472</td>\n",
       "      <td>82.310909</td>\n",
       "      <td>84.241073</td>\n",
       "      <td>86.332581</td>\n",
       "      <td>83.116009</td>\n",
       "    </tr>\n",
       "    <tr>\n",
       "      <th>3</th>\n",
       "      <td>AR</td>\n",
       "      <td>Arkansas</td>\n",
       "      <td>81.310768</td>\n",
       "      <td>84.123650</td>\n",
       "      <td>85.637344</td>\n",
       "      <td>87.601463</td>\n",
       "      <td>75.763702</td>\n",
       "      <td>79.606911</td>\n",
       "      <td>82.115067</td>\n",
       "      <td>84.158447</td>\n",
       "      <td>84.668306</td>\n",
       "      <td>80.411032</td>\n",
       "      <td>78.537235</td>\n",
       "      <td>81.865281</td>\n",
       "      <td>83.876206</td>\n",
       "      <td>85.879955</td>\n",
       "      <td>82.539669</td>\n",
       "    </tr>\n",
       "    <tr>\n",
       "      <th>4</th>\n",
       "      <td>CA</td>\n",
       "      <td>California</td>\n",
       "      <td>82.946465</td>\n",
       "      <td>83.530724</td>\n",
       "      <td>84.965134</td>\n",
       "      <td>86.939842</td>\n",
       "      <td>78.731621</td>\n",
       "      <td>80.364868</td>\n",
       "      <td>82.369225</td>\n",
       "      <td>85.161736</td>\n",
       "      <td>84.595541</td>\n",
       "      <td>81.656863</td>\n",
       "      <td>80.839043</td>\n",
       "      <td>81.947796</td>\n",
       "      <td>83.667180</td>\n",
       "      <td>86.050789</td>\n",
       "      <td>83.126202</td>\n",
       "    </tr>\n",
       "  </tbody>\n",
       "</table>\n",
       "</div>"
      ],
      "text/plain": [
       "  State Abbreviation       State    LE Q1 F    LE Q2 F    LE Q3 F    LE Q4 F  \\\n",
       "0                 AL     Alabama  82.228058  84.474808  85.808136  87.224434   \n",
       "1                 AK      Alaska  82.348953  83.712013  85.585838  87.168770   \n",
       "2                 AZ     Arizona  82.151314  84.147186  85.781685  87.435135   \n",
       "3                 AR    Arkansas  81.310768  84.123650  85.637344  87.601463   \n",
       "4                 CA  California  82.946465  83.530724  84.965134  86.939842   \n",
       "\n",
       "     LE Q1 M    LE Q2 M    LE Q3 M    LE Q4 M  Female Average  Male Average  \\\n",
       "0  75.376083  79.430519  82.262962  84.497810       84.933859     80.391844   \n",
       "1  76.639389  80.524376  82.445099  85.575829       84.703893     81.296173   \n",
       "2  77.007629  80.474632  82.700462  85.230026       84.878830     81.353187   \n",
       "3  75.763702  79.606911  82.115067  84.158447       84.668306     80.411032   \n",
       "4  78.731621  80.364868  82.369225  85.161736       84.595541     81.656863   \n",
       "\n",
       "   Q1 Average  Q2 Average  Q3 Average  Q4 Average  State Average  \n",
       "0   78.802070   81.952663   84.035549   85.861122      82.662851  \n",
       "1   79.494171   82.118195   84.015469   86.372299      83.000033  \n",
       "2   79.579472   82.310909   84.241073   86.332581      83.116009  \n",
       "3   78.537235   81.865281   83.876206   85.879955      82.539669  \n",
       "4   80.839043   81.947796   83.667180   86.050789      83.126202  "
      ]
     },
     "execution_count": 135,
     "metadata": {},
     "output_type": "execute_result"
    }
   ],
   "source": [
    "# The path to our CSV file\n",
    "csv = \"csv_references/State_Characteristics.csv\"\n",
    "csv2 = \"csv_references/state_averages_cleaned.csv\"\n",
    "\n",
    "# Read our purchase data into pandas\n",
    "statesummaries_df = pd.read_csv(csv)\n",
    "stateaverages_df = pd.read_csv(csv2)\n",
    "# statesummaries_df.head()\n",
    "# stateaverages_df.head()\n",
    "stateaverages_df = stateaverages_df.rename(columns = {'Abbrv': 'State Abbreviation'})\n",
    "stateaverages_df.head()"
   ]
  },
  {
   "cell_type": "code",
   "execution_count": 136,
   "metadata": {},
   "outputs": [
    {
     "data": {
      "text/html": [
       "<div>\n",
       "<style scoped>\n",
       "    .dataframe tbody tr th:only-of-type {\n",
       "        vertical-align: middle;\n",
       "    }\n",
       "\n",
       "    .dataframe tbody tr th {\n",
       "        vertical-align: top;\n",
       "    }\n",
       "\n",
       "    .dataframe thead th {\n",
       "        text-align: right;\n",
       "    }\n",
       "</style>\n",
       "<table border=\"1\" class=\"dataframe\">\n",
       "  <thead>\n",
       "    <tr style=\"text-align: right;\">\n",
       "      <th></th>\n",
       "      <th>State Abbreviation</th>\n",
       "      <th>Percent Uninsured</th>\n",
       "      <th>Percent of Medicare Enrollees with at Least One Primary Care Visit</th>\n",
       "      <th>Percent Black</th>\n",
       "      <th>Percent Hispanic</th>\n",
       "      <th>Mean Household Income</th>\n",
       "      <th>Median House Value</th>\n",
       "      <th>Percent College Grads</th>\n",
       "      <th>State</th>\n",
       "      <th>LE Q1 F</th>\n",
       "      <th>...</th>\n",
       "      <th>LE Q2 M</th>\n",
       "      <th>LE Q3 M</th>\n",
       "      <th>LE Q4 M</th>\n",
       "      <th>Female Average</th>\n",
       "      <th>Male Average</th>\n",
       "      <th>Q1 Average</th>\n",
       "      <th>Q2 Average</th>\n",
       "      <th>Q3 Average</th>\n",
       "      <th>Q4 Average</th>\n",
       "      <th>State Average</th>\n",
       "    </tr>\n",
       "  </thead>\n",
       "  <tbody>\n",
       "    <tr>\n",
       "      <th>0</th>\n",
       "      <td>AK</td>\n",
       "      <td>20.810048</td>\n",
       "      <td>68.396118</td>\n",
       "      <td>3.370547</td>\n",
       "      <td>4.117386</td>\n",
       "      <td>39316.127927</td>\n",
       "      <td>189058.544520</td>\n",
       "      <td>20.810048</td>\n",
       "      <td>Alaska</td>\n",
       "      <td>82.348953</td>\n",
       "      <td>...</td>\n",
       "      <td>80.524376</td>\n",
       "      <td>82.445099</td>\n",
       "      <td>85.575829</td>\n",
       "      <td>84.703893</td>\n",
       "      <td>81.296173</td>\n",
       "      <td>79.494171</td>\n",
       "      <td>82.118195</td>\n",
       "      <td>84.015469</td>\n",
       "      <td>86.372299</td>\n",
       "      <td>83.000033</td>\n",
       "    </tr>\n",
       "    <tr>\n",
       "      <th>1</th>\n",
       "      <td>AL</td>\n",
       "      <td>17.025655</td>\n",
       "      <td>83.011464</td>\n",
       "      <td>25.861258</td>\n",
       "      <td>1.705156</td>\n",
       "      <td>33407.113797</td>\n",
       "      <td>113881.208651</td>\n",
       "      <td>17.025655</td>\n",
       "      <td>Alabama</td>\n",
       "      <td>82.228058</td>\n",
       "      <td>...</td>\n",
       "      <td>79.430519</td>\n",
       "      <td>82.262962</td>\n",
       "      <td>84.497810</td>\n",
       "      <td>84.933859</td>\n",
       "      <td>80.391844</td>\n",
       "      <td>78.802070</td>\n",
       "      <td>81.952663</td>\n",
       "      <td>84.035549</td>\n",
       "      <td>85.861122</td>\n",
       "      <td>82.662851</td>\n",
       "    </tr>\n",
       "    <tr>\n",
       "      <th>2</th>\n",
       "      <td>AR</td>\n",
       "      <td>20.627987</td>\n",
       "      <td>80.983545</td>\n",
       "      <td>15.583714</td>\n",
       "      <td>3.249271</td>\n",
       "      <td>31613.757775</td>\n",
       "      <td>95801.433543</td>\n",
       "      <td>20.627987</td>\n",
       "      <td>Arkansas</td>\n",
       "      <td>81.310768</td>\n",
       "      <td>...</td>\n",
       "      <td>79.606911</td>\n",
       "      <td>82.115067</td>\n",
       "      <td>84.158447</td>\n",
       "      <td>84.668306</td>\n",
       "      <td>80.411032</td>\n",
       "      <td>78.537235</td>\n",
       "      <td>81.865281</td>\n",
       "      <td>83.876206</td>\n",
       "      <td>85.879955</td>\n",
       "      <td>82.539669</td>\n",
       "    </tr>\n",
       "    <tr>\n",
       "      <th>3</th>\n",
       "      <td>AZ</td>\n",
       "      <td>19.313449</td>\n",
       "      <td>79.607123</td>\n",
       "      <td>2.922467</td>\n",
       "      <td>25.252582</td>\n",
       "      <td>37996.247733</td>\n",
       "      <td>159287.376412</td>\n",
       "      <td>19.313449</td>\n",
       "      <td>Arizona</td>\n",
       "      <td>82.151314</td>\n",
       "      <td>...</td>\n",
       "      <td>80.474632</td>\n",
       "      <td>82.700462</td>\n",
       "      <td>85.230026</td>\n",
       "      <td>84.878830</td>\n",
       "      <td>81.353187</td>\n",
       "      <td>79.579472</td>\n",
       "      <td>82.310909</td>\n",
       "      <td>84.241073</td>\n",
       "      <td>86.332581</td>\n",
       "      <td>83.116009</td>\n",
       "    </tr>\n",
       "    <tr>\n",
       "      <th>4</th>\n",
       "      <td>CA</td>\n",
       "      <td>20.643943</td>\n",
       "      <td>72.221846</td>\n",
       "      <td>6.441747</td>\n",
       "      <td>32.376801</td>\n",
       "      <td>41101.182974</td>\n",
       "      <td>303544.618008</td>\n",
       "      <td>20.643943</td>\n",
       "      <td>California</td>\n",
       "      <td>82.946465</td>\n",
       "      <td>...</td>\n",
       "      <td>80.364868</td>\n",
       "      <td>82.369225</td>\n",
       "      <td>85.161736</td>\n",
       "      <td>84.595541</td>\n",
       "      <td>81.656863</td>\n",
       "      <td>80.839043</td>\n",
       "      <td>81.947796</td>\n",
       "      <td>83.667180</td>\n",
       "      <td>86.050789</td>\n",
       "      <td>83.126202</td>\n",
       "    </tr>\n",
       "  </tbody>\n",
       "</table>\n",
       "<p>5 rows × 24 columns</p>\n",
       "</div>"
      ],
      "text/plain": [
       "  State Abbreviation  Percent Uninsured  \\\n",
       "0                 AK          20.810048   \n",
       "1                 AL          17.025655   \n",
       "2                 AR          20.627987   \n",
       "3                 AZ          19.313449   \n",
       "4                 CA          20.643943   \n",
       "\n",
       "   Percent of Medicare Enrollees with at Least One Primary Care Visit  \\\n",
       "0                                          68.396118                    \n",
       "1                                          83.011464                    \n",
       "2                                          80.983545                    \n",
       "3                                          79.607123                    \n",
       "4                                          72.221846                    \n",
       "\n",
       "   Percent Black  Percent Hispanic  Mean Household Income  Median House Value  \\\n",
       "0       3.370547          4.117386           39316.127927       189058.544520   \n",
       "1      25.861258          1.705156           33407.113797       113881.208651   \n",
       "2      15.583714          3.249271           31613.757775        95801.433543   \n",
       "3       2.922467         25.252582           37996.247733       159287.376412   \n",
       "4       6.441747         32.376801           41101.182974       303544.618008   \n",
       "\n",
       "   Percent College Grads       State    LE Q1 F      ...          LE Q2 M  \\\n",
       "0              20.810048      Alaska  82.348953      ...        80.524376   \n",
       "1              17.025655     Alabama  82.228058      ...        79.430519   \n",
       "2              20.627987    Arkansas  81.310768      ...        79.606911   \n",
       "3              19.313449     Arizona  82.151314      ...        80.474632   \n",
       "4              20.643943  California  82.946465      ...        80.364868   \n",
       "\n",
       "     LE Q3 M    LE Q4 M  Female Average  Male Average  Q1 Average  Q2 Average  \\\n",
       "0  82.445099  85.575829       84.703893     81.296173   79.494171   82.118195   \n",
       "1  82.262962  84.497810       84.933859     80.391844   78.802070   81.952663   \n",
       "2  82.115067  84.158447       84.668306     80.411032   78.537235   81.865281   \n",
       "3  82.700462  85.230026       84.878830     81.353187   79.579472   82.310909   \n",
       "4  82.369225  85.161736       84.595541     81.656863   80.839043   81.947796   \n",
       "\n",
       "   Q3 Average  Q4 Average  State Average  \n",
       "0   84.015469   86.372299      83.000033  \n",
       "1   84.035549   85.861122      82.662851  \n",
       "2   83.876206   85.879955      82.539669  \n",
       "3   84.241073   86.332581      83.116009  \n",
       "4   83.667180   86.050789      83.126202  \n",
       "\n",
       "[5 rows x 24 columns]"
      ]
     },
     "execution_count": 136,
     "metadata": {},
     "output_type": "execute_result"
    }
   ],
   "source": [
    "stateinfomerge_df=pd.merge(statesummaries_df,stateaverages_df, on=\"State Abbreviation\")\n",
    "stateinfomerge_df.head()"
   ]
  },
  {
   "cell_type": "code",
   "execution_count": 137,
   "metadata": {},
   "outputs": [
    {
     "data": {
      "image/png": "[encoded data removed]",
      "text/plain": [
       "<Figure size 720x360 with 1 Axes>"
      ]
     },
     "metadata": {
      "needs_background": "light"
     },
     "output_type": "display_data"
    }
   ],
   "source": [
    "# Create a bar chart based off of the group series from before\n",
    "x_axis = np.arange(len(statesummaries_df['State Abbreviation']))\n",
    "\n",
    "plt.bar(x_axis, statesummaries_df[\"Percent Uninsured\"], alpha=0.5, align=\"center\") \n",
    "\n",
    "tick_locations = [value for value in x_axis]\n",
    "plt.xticks(tick_locations, statesummaries_df['State Abbreviation'], rotation=\"vertical\")\n",
    "\n",
    "plt.title(\"Percent Uninsured By State\")\n",
    "plt.xlabel(\"State\")\n",
    "plt.ylabel(\"Percent Uninsured\")\n",
    "\n",
    "plt.savefig('chart_images/Pct_unins_state_avg.png')\n",
    "\n",
    "# plt.figure(figsize=(20,10))\n",
    "plt.show()"
   ]
  },
  {
   "cell_type": "code",
   "execution_count": 139,
   "metadata": {},
   "outputs": [
    {
     "data": {
      "image/png": "[encoded data removed]",
      "text/plain": [
       "<Figure size 720x360 with 1 Axes>"
      ]
     },
     "metadata": {
      "needs_background": "light"
     },
     "output_type": "display_data"
    }
   ],
   "source": [
    "PU=plt.scatter(stateinfomerge_df[\"Percent Uninsured\"], stateinfomerge_df[\"State Average\"], c=\"blue\",edgecolor=\"black\", \n",
    "                  linewidths=.5, alpha=.75, label=\"State Average\")\n",
    "\n",
    "plt.xlabel(\"Percent Uninsured\")\n",
    "plt.ylabel(\"State Average Life Expectancy\")\n",
    "plt.title(\"State Average Life Expectancy vs. Percent Uninsured\")\n",
    "\n",
    "plt.savefig('chart_images/State_avg_pct_uninsured.png')\n",
    "# plt.trendline()"
   ]
  },
  {
   "cell_type": "code",
   "execution_count": 140,
   "metadata": {},
   "outputs": [
    {
     "data": {
      "text/plain": [
       "(-0.36478351540434856, 0.008491792016149613)"
      ]
     },
     "execution_count": 140,
     "metadata": {},
     "output_type": "execute_result"
    }
   ],
   "source": [
    "scipy.stats.pearsonr(stateinfomerge_df[\"Percent Uninsured\"], stateinfomerge_df[\"State Average\"])"
   ]
  },
  {
   "cell_type": "code",
   "execution_count": 141,
   "metadata": {},
   "outputs": [
    {
     "data": {
      "image/png": "[encoded data removed]",
      "text/plain": [
       "<Figure size 720x360 with 1 Axes>"
      ]
     },
     "metadata": {
      "needs_background": "light"
     },
     "output_type": "display_data"
    }
   ],
   "source": [
    "Hispanic=plt.scatter(stateinfomerge_df[\"Percent Black\"], stateinfomerge_df[\"State Average\"], c=\"blue\",edgecolor=\"black\", \n",
    "                  linewidths=.5, alpha=.75, label=\"Male\")\n",
    "\n",
    "plt.xlabel(\"Percent African-American\")\n",
    "plt.ylabel(\"State Average Life Expectancy\")\n",
    "plt.title(\"State Average Life Expectancy vs. Percent African-American\")\n",
    "\n",
    "plt.savefig('chart_images/Pct_AA_state_avg.png')\n",
    "# plt.trendline()"
   ]
  },
  {
   "cell_type": "code",
   "execution_count": 142,
   "metadata": {},
   "outputs": [
    {
     "data": {
      "text/plain": [
       "(-0.32034333619614225, 0.021919807870853156)"
      ]
     },
     "execution_count": 142,
     "metadata": {},
     "output_type": "execute_result"
    }
   ],
   "source": [
    "scipy.stats.pearsonr(stateinfomerge_df[\"Percent Black\"], stateinfomerge_df[\"State Average\"])"
   ]
  },
  {
   "cell_type": "code",
   "execution_count": 143,
   "metadata": {},
   "outputs": [
    {
     "data": {
      "image/png": "[encoded data removed]",
      "text/plain": [
       "<Figure size 720x360 with 1 Axes>"
      ]
     },
     "metadata": {
      "needs_background": "light"
     },
     "output_type": "display_data"
    }
   ],
   "source": [
    "Hispanic=plt.scatter(stateinfomerge_df[\"Percent Hispanic\"], stateinfomerge_df[\"State Average\"], c=\"blue\",edgecolor=\"black\", \n",
    "                  linewidths=.5, alpha=.75, label=\"Male\")\n",
    "\n",
    "plt.xlabel(\"Percent Hispanic\")\n",
    "plt.ylabel(\"State Average Life Expectancy\")\n",
    "plt.title(\"State Average Life Expectancy vs. Percent Hispanic\")\n",
    "\n",
    "plt.savefig('chart_images/Pct_hispanic_state_avg.png')\n",
    "# plt.trendline()"
   ]
  },
  {
   "cell_type": "code",
   "execution_count": 144,
   "metadata": {},
   "outputs": [
    {
     "data": {
      "text/plain": [
       "(-0.20427612810645301, 0.15047113551257532)"
      ]
     },
     "execution_count": 144,
     "metadata": {},
     "output_type": "execute_result"
    }
   ],
   "source": [
    "scipy.stats.pearsonr(stateinfomerge_df[\"Percent Hispanic\"], stateinfomerge_df[\"State Average\"])"
   ]
  },
  {
   "cell_type": "markdown",
   "metadata": {},
   "source": [
    "## ----------------------------------------------------------------------------------------------"
   ]
  },
  {
   "cell_type": "markdown",
   "metadata": {},
   "source": [
    "## Conor Healy's Analysis"
   ]
  },
  {
   "cell_type": "markdown",
   "metadata": {},
   "source": [
    "## ----------------------------------------------------------------------------------------------"
   ]
  },
  {
   "cell_type": "code",
   "execution_count": null,
   "metadata": {},
   "outputs": [],
   "source": []
  }
 ],
 "metadata": {
  "kernelspec": {
   "display_name": "Python 3",
   "language": "python",
   "name": "python3"
  },
  "language_info": {
   "codemirror_mode": {
    "name": "ipython",
    "version": 3
   },
   "file_extension": ".py",
   "mimetype": "text/x-python",
   "name": "python",
   "nbconvert_exporter": "python",
   "pygments_lexer": "ipython3",
   "version": "3.7.0"
  }
 },
 "nbformat": 4,
 "nbformat_minor": 2
}
