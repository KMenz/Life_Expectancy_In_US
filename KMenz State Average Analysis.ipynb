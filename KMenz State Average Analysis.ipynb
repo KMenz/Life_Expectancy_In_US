{
 "cells": [
  {
   "cell_type": "code",
   "execution_count": 79,
   "metadata": {},
   "outputs": [],
   "source": [
    "#Import Dependencies\n",
    "import pandas as pd\n",
    "import numpy as np\n",
    "import matplotlib.pyplot as plt\n",
    "import gmaps\n",
    "\n",
    "csv = 'csv_references/state_averages_cleaned.csv'\n",
    "\n",
    "#import api key for gmaps\n",
    "from config import api_key_maps\n",
    "\n",
    "#configure gmaps\n",
    "gmaps.configure(api_key = api_key_maps)"
   ]
  },
  {
   "cell_type": "code",
   "execution_count": 80,
   "metadata": {
    "scrolled": true
   },
   "outputs": [
    {
     "data": {
      "text/html": [
       "<div>\n",
       "<style scoped>\n",
       "    .dataframe tbody tr th:only-of-type {\n",
       "        vertical-align: middle;\n",
       "    }\n",
       "\n",
       "    .dataframe tbody tr th {\n",
       "        vertical-align: top;\n",
       "    }\n",
       "\n",
       "    .dataframe thead th {\n",
       "        text-align: right;\n",
       "    }\n",
       "</style>\n",
       "<table border=\"1\" class=\"dataframe\">\n",
       "  <thead>\n",
       "    <tr style=\"text-align: right;\">\n",
       "      <th></th>\n",
       "      <th>Abbrv</th>\n",
       "      <th>State</th>\n",
       "      <th>LE Q1 F</th>\n",
       "      <th>LE Q2 F</th>\n",
       "      <th>LE Q3 F</th>\n",
       "      <th>LE Q4 F</th>\n",
       "      <th>LE Q1 M</th>\n",
       "      <th>LE Q2 M</th>\n",
       "      <th>LE Q3 M</th>\n",
       "      <th>LE Q4 M</th>\n",
       "      <th>Female Average</th>\n",
       "      <th>Male Average</th>\n",
       "      <th>Q1 Average</th>\n",
       "      <th>Q2 Average</th>\n",
       "      <th>Q3 Average</th>\n",
       "      <th>Q4 Average</th>\n",
       "      <th>State Average</th>\n",
       "    </tr>\n",
       "  </thead>\n",
       "  <tbody>\n",
       "    <tr>\n",
       "      <th>0</th>\n",
       "      <td>AL</td>\n",
       "      <td>Alabama</td>\n",
       "      <td>82.228058</td>\n",
       "      <td>84.474808</td>\n",
       "      <td>85.808136</td>\n",
       "      <td>87.224434</td>\n",
       "      <td>75.376083</td>\n",
       "      <td>79.430519</td>\n",
       "      <td>82.262962</td>\n",
       "      <td>84.497810</td>\n",
       "      <td>84.933859</td>\n",
       "      <td>80.391844</td>\n",
       "      <td>78.802070</td>\n",
       "      <td>81.952663</td>\n",
       "      <td>84.035549</td>\n",
       "      <td>85.861122</td>\n",
       "      <td>82.662851</td>\n",
       "    </tr>\n",
       "    <tr>\n",
       "      <th>1</th>\n",
       "      <td>AK</td>\n",
       "      <td>Alaska</td>\n",
       "      <td>82.348953</td>\n",
       "      <td>83.712013</td>\n",
       "      <td>85.585838</td>\n",
       "      <td>87.168770</td>\n",
       "      <td>76.639389</td>\n",
       "      <td>80.524376</td>\n",
       "      <td>82.445099</td>\n",
       "      <td>85.575829</td>\n",
       "      <td>84.703893</td>\n",
       "      <td>81.296173</td>\n",
       "      <td>79.494171</td>\n",
       "      <td>82.118195</td>\n",
       "      <td>84.015469</td>\n",
       "      <td>86.372299</td>\n",
       "      <td>83.000033</td>\n",
       "    </tr>\n",
       "    <tr>\n",
       "      <th>2</th>\n",
       "      <td>AZ</td>\n",
       "      <td>Arizona</td>\n",
       "      <td>82.151314</td>\n",
       "      <td>84.147186</td>\n",
       "      <td>85.781685</td>\n",
       "      <td>87.435135</td>\n",
       "      <td>77.007629</td>\n",
       "      <td>80.474632</td>\n",
       "      <td>82.700462</td>\n",
       "      <td>85.230026</td>\n",
       "      <td>84.878830</td>\n",
       "      <td>81.353187</td>\n",
       "      <td>79.579472</td>\n",
       "      <td>82.310909</td>\n",
       "      <td>84.241073</td>\n",
       "      <td>86.332581</td>\n",
       "      <td>83.116009</td>\n",
       "    </tr>\n",
       "    <tr>\n",
       "      <th>3</th>\n",
       "      <td>AR</td>\n",
       "      <td>Arkansas</td>\n",
       "      <td>81.310768</td>\n",
       "      <td>84.123650</td>\n",
       "      <td>85.637344</td>\n",
       "      <td>87.601463</td>\n",
       "      <td>75.763702</td>\n",
       "      <td>79.606911</td>\n",
       "      <td>82.115067</td>\n",
       "      <td>84.158447</td>\n",
       "      <td>84.668306</td>\n",
       "      <td>80.411032</td>\n",
       "      <td>78.537235</td>\n",
       "      <td>81.865281</td>\n",
       "      <td>83.876206</td>\n",
       "      <td>85.879955</td>\n",
       "      <td>82.539669</td>\n",
       "    </tr>\n",
       "    <tr>\n",
       "      <th>4</th>\n",
       "      <td>CA</td>\n",
       "      <td>California</td>\n",
       "      <td>82.946465</td>\n",
       "      <td>83.530724</td>\n",
       "      <td>84.965134</td>\n",
       "      <td>86.939842</td>\n",
       "      <td>78.731621</td>\n",
       "      <td>80.364868</td>\n",
       "      <td>82.369225</td>\n",
       "      <td>85.161736</td>\n",
       "      <td>84.595541</td>\n",
       "      <td>81.656863</td>\n",
       "      <td>80.839043</td>\n",
       "      <td>81.947796</td>\n",
       "      <td>83.667180</td>\n",
       "      <td>86.050789</td>\n",
       "      <td>83.126202</td>\n",
       "    </tr>\n",
       "  </tbody>\n",
       "</table>\n",
       "</div>"
      ],
      "text/plain": [
       "  Abbrv       State    LE Q1 F    LE Q2 F    LE Q3 F    LE Q4 F    LE Q1 M  \\\n",
       "0    AL     Alabama  82.228058  84.474808  85.808136  87.224434  75.376083   \n",
       "1    AK      Alaska  82.348953  83.712013  85.585838  87.168770  76.639389   \n",
       "2    AZ     Arizona  82.151314  84.147186  85.781685  87.435135  77.007629   \n",
       "3    AR    Arkansas  81.310768  84.123650  85.637344  87.601463  75.763702   \n",
       "4    CA  California  82.946465  83.530724  84.965134  86.939842  78.731621   \n",
       "\n",
       "     LE Q2 M    LE Q3 M    LE Q4 M  Female Average  Male Average  Q1 Average  \\\n",
       "0  79.430519  82.262962  84.497810       84.933859     80.391844   78.802070   \n",
       "1  80.524376  82.445099  85.575829       84.703893     81.296173   79.494171   \n",
       "2  80.474632  82.700462  85.230026       84.878830     81.353187   79.579472   \n",
       "3  79.606911  82.115067  84.158447       84.668306     80.411032   78.537235   \n",
       "4  80.364868  82.369225  85.161736       84.595541     81.656863   80.839043   \n",
       "\n",
       "   Q2 Average  Q3 Average  Q4 Average  State Average  \n",
       "0   81.952663   84.035549   85.861122      82.662851  \n",
       "1   82.118195   84.015469   86.372299      83.000033  \n",
       "2   82.310909   84.241073   86.332581      83.116009  \n",
       "3   81.865281   83.876206   85.879955      82.539669  \n",
       "4   81.947796   83.667180   86.050789      83.126202  "
      ]
     },
     "execution_count": 80,
     "metadata": {},
     "output_type": "execute_result"
    }
   ],
   "source": [
    "#Read CSV Into DF\n",
    "states_average_df = pd.read_csv('csv_references/state_averages_cleaned.csv')\n",
    "states_average_df.head()"
   ]
  },
  {
   "cell_type": "code",
   "execution_count": 81,
   "metadata": {
    "scrolled": true
   },
   "outputs": [],
   "source": [
    "#Get Top 5 Male Averages\n",
    "Male_Average_Top = states_average_df.sort_values('Male Average', ascending = False).reset_index()\n",
    "\n",
    "Male_Average_Top = Male_Average_Top.head()"
   ]
  },
  {
   "cell_type": "code",
   "execution_count": 82,
   "metadata": {},
   "outputs": [],
   "source": [
    "#create variables for bar chart for male average\n",
    "x_axis = np.arange(len(Male_Average_Top['State']))\n",
    "m_avg = Male_Average_Top['Male Average']\n",
    "f_avg = Male_Average_Top['Female Average']\n"
   ]
  },
  {
   "cell_type": "code",
   "execution_count": 83,
   "metadata": {},
   "outputs": [
    {
     "data": {
      "image/png": "[encoded data removed]",
      "text/plain": [
       "<Figure size 432x288 with 1 Axes>"
      ]
     },
     "metadata": {},
     "output_type": "display_data"
    }
   ],
   "source": [
    "#Define Subplots and Bar Width For Top Male LE\n",
    "fig, ax = plt.subplots()\n",
    "bar_width = .35\n",
    "\n",
    "#Build Bar Chart For Top Male LE\n",
    "Top_Men_M = ax.bar(x_axis, m_avg, bar_width, color = 'r', alpha = .5, label = 'Male')\n",
    "Top_Men_F = ax.bar(x_axis + bar_width, f_avg, bar_width, color = 'b', alpha = .5, label = 'Female')\n",
    "\n",
    "#Build Tick Locations for Top Male LE\n",
    "tick_locations = [value for value in x_axis]\n",
    "plt.xticks(tick_locations, Male_Average_Top['State'] )\n",
    "\n",
    "#Set Limits and add in labels for Top Male LE\n",
    "plt.ylim(75, 90)\n",
    "plt.title('Top 5 States With Highest Male Life Expectency')\n",
    "plt.xlabel('State')\n",
    "plt.ylabel('Life Expectency (%)')\n",
    "plt.legend()\n",
    "\n",
    "\n",
    "fig.tight_layout()\n",
    "\n",
    "plt.savefig('chart_images/state_top_male.png')\n",
    "\n",
    "plt.show()"
   ]
  },
  {
   "cell_type": "code",
   "execution_count": 84,
   "metadata": {},
   "outputs": [],
   "source": [
    "#Get Top 5 Female Averages\n",
    "Female_Average_Top = states_average_df.sort_values('Female Average', ascending = False).reset_index()\n",
    "\n",
    "Female_Average_Top = Female_Average_Top.head()"
   ]
  },
  {
   "cell_type": "code",
   "execution_count": 85,
   "metadata": {},
   "outputs": [],
   "source": [
    "#create variables for bar chart for female average\n",
    "x_axis = np.arange(len(Female_Average_Top['State']))\n",
    "m_avg = Female_Average_Top['Male Average']\n",
    "f_avg = Female_Average_Top['Female Average']"
   ]
  },
  {
   "cell_type": "code",
   "execution_count": 86,
   "metadata": {},
   "outputs": [
    {
     "data": {
      "image/png": "[encoded data removed]",
      "text/plain": [
       "<Figure size 432x288 with 1 Axes>"
      ]
     },
     "metadata": {},
     "output_type": "display_data"
    }
   ],
   "source": [
    "#Define Subplots and Bar Width For Top Female LE\n",
    "fig, ax = plt.subplots()\n",
    "bar_width = .35\n",
    "\n",
    "#Build Bar Chart For Top Female LE\n",
    "Top_Fem_F = ax.bar(x_axis + bar_width, f_avg, bar_width, color = 'b', alpha = .5, label = 'Female')\n",
    "Top_Fem_M = ax.bar(x_axis, m_avg, bar_width, color = 'r', alpha = .5, label = 'Male')\n",
    "\n",
    "\n",
    "#Build Tick Locations for Top Female LE\n",
    "tick_locations = [value for value in x_axis]\n",
    "plt.xticks(tick_locations, Female_Average_Top['State'] )\n",
    "\n",
    "#Set Limits and add in labels for Top Female LE\n",
    "plt.ylim(75, 90)\n",
    "plt.title('Top 5 States With Highest Female Life Expectency')\n",
    "plt.xlabel('State')\n",
    "plt.ylabel('Life Expectency (%)')\n",
    "plt.legend()\n",
    "\n",
    "\n",
    "fig.tight_layout()\n",
    "\n",
    "plt.savefig('chart_images/state_top_female.png')\n",
    "\n",
    "plt.show()"
   ]
  },
  {
   "cell_type": "code",
   "execution_count": 87,
   "metadata": {},
   "outputs": [],
   "source": [
    "#Get Bottom 5 Male Averages\n",
    "Male_Average_Bot = states_average_df.sort_values('Male Average', ascending = True).reset_index()\n",
    "\n",
    "Male_Average_Bot = Male_Average_Bot.head()"
   ]
  },
  {
   "cell_type": "code",
   "execution_count": 88,
   "metadata": {},
   "outputs": [],
   "source": [
    "#create variables for bar chart for male average\n",
    "x_axis = np.arange(len(Male_Average_Bot['State']))\n",
    "m_avg = Male_Average_Bot['Male Average']\n",
    "f_avg = Male_Average_Bot['Female Average']"
   ]
  },
  {
   "cell_type": "code",
   "execution_count": 89,
   "metadata": {},
   "outputs": [
    {
     "data": {
      "image/png": "[encoded data removed]",
      "text/plain": [
       "<Figure size 432x288 with 1 Axes>"
      ]
     },
     "metadata": {},
     "output_type": "display_data"
    }
   ],
   "source": [
    "#Define Subplots and Bar Width For Bot Male LE\n",
    "fig, ax = plt.subplots()\n",
    "bar_width = .35\n",
    "\n",
    "#Build Bar Chart For Bot Male LE\n",
    "Bot_Men_M = ax.bar(x_axis, m_avg, bar_width, color = 'r', alpha = .5, label = 'Male')\n",
    "Bot_Men_F = ax.bar(x_axis + bar_width, f_avg, bar_width, color = 'b', alpha = .5, label = 'Female')\n",
    "\n",
    "#Build Tick Locations for Bot Male LE\n",
    "tick_locations = [value for value in x_axis]\n",
    "plt.xticks(tick_locations, Male_Average_Bot['State'] )\n",
    "\n",
    "#Set Limits and add in labels for Bot Male LE\n",
    "plt.ylim(75, 90)\n",
    "plt.title('Top 5 States With Lowest Male Life Expectency')\n",
    "plt.xlabel('State')\n",
    "plt.ylabel('Life Expectency (%)')\n",
    "plt.legend()\n",
    "\n",
    "\n",
    "fig.tight_layout()\n",
    "\n",
    "plt.savefig('chart_images/state_bot_male.png')\n",
    "\n",
    "plt.show()"
   ]
  },
  {
   "cell_type": "code",
   "execution_count": 90,
   "metadata": {},
   "outputs": [],
   "source": [
    "#Get Bottom 5 Female Averages\n",
    "Female_Average_Bot = states_average_df.sort_values('Female Average', ascending = True).reset_index()\n",
    "\n",
    "Female_Average_Bot = Female_Average_Bot.head()"
   ]
  },
  {
   "cell_type": "code",
   "execution_count": 91,
   "metadata": {},
   "outputs": [],
   "source": [
    "#create variables for bar chart for female average\n",
    "x_axis = np.arange(len(Female_Average_Bot['State']))\n",
    "m_avg = Female_Average_Bot['Male Average']\n",
    "f_avg = Female_Average_Bot['Female Average']"
   ]
  },
  {
   "cell_type": "code",
   "execution_count": 93,
   "metadata": {},
   "outputs": [
    {
     "data": {
      "image/png": "[encoded data removed]",
      "text/plain": [
       "<Figure size 432x288 with 1 Axes>"
      ]
     },
     "metadata": {},
     "output_type": "display_data"
    }
   ],
   "source": [
    "#Define Subplots and Bar Width For Bot female LE\n",
    "fig, ax = plt.subplots()\n",
    "bar_width = .35\n",
    "\n",
    "#Build Bar Chart For Bot female LE\n",
    "Bot_Fem_M = ax.bar(x_axis, m_avg, bar_width, color = 'r', alpha = .5, label = 'Male')\n",
    "Bot_Fem_F = ax.bar(x_axis + bar_width, f_avg, bar_width, color = 'b', alpha = .5, label = 'Female')\n",
    "\n",
    "#Build Tick Locations for Bot female LE\n",
    "tick_locations = [value for value in x_axis]\n",
    "plt.xticks(tick_locations, Female_Average_Bot['State'] )\n",
    "\n",
    "#Set Limits and add in labels for Bot female LE\n",
    "plt.ylim(75, 90)\n",
    "plt.title('Top 5 States With Lowest Female Life Expectency')\n",
    "plt.xlabel('State')\n",
    "plt.ylabel('Life Expectency (%)')\n",
    "plt.legend()\n",
    "\n",
    "\n",
    "fig.tight_layout()\n",
    "\n",
    "plt.savefig('chart_images/state_bot_female.png')\n",
    "\n",
    "plt.show()"
   ]
  },
  {
   "cell_type": "code",
   "execution_count": 96,
   "metadata": {},
   "outputs": [],
   "source": [
    "#Top States Total\n",
    "#Get Top 5 Total Averages\n",
    "Total_Average_Top = states_average_df.sort_values('State Average', ascending = False).reset_index()\n",
    "\n",
    "Total_Average_Top = Total_Average_Top.head()"
   ]
  },
  {
   "cell_type": "code",
   "execution_count": 97,
   "metadata": {},
   "outputs": [],
   "source": [
    "#create variables for bar chart for total average\n",
    "x_axis = np.arange(len(Total_Average_Top['State']))\n",
    "tot_avg = Total_Average_Top['State Average']\n",
    "m_avg = Total_Average_Top['Male Average']\n",
    "f_avg = Total_Average_Top['Female Average']\n",
    "\n"
   ]
  },
  {
   "cell_type": "code",
   "execution_count": null,
   "metadata": {},
   "outputs": [],
   "source": []
  }
 ],
 "metadata": {
  "kernelspec": {
   "display_name": "Python 3",
   "language": "python",
   "name": "python3"
  },
  "language_info": {
   "codemirror_mode": {
    "name": "ipython",
    "version": 3
   },
   "file_extension": ".py",
   "mimetype": "text/x-python",
   "name": "python",
   "nbconvert_exporter": "python",
   "pygments_lexer": "ipython3",
   "version": "3.6.5"
  }
 },
 "nbformat": 4,
 "nbformat_minor": 2
}
