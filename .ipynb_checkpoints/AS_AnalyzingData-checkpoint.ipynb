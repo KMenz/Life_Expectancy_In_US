{
 "cells": [
  {
   "cell_type": "code",
   "execution_count": 20,
   "metadata": {},
   "outputs": [],
   "source": [
    "# Import Dependencies\n",
    "import pandas as pd\n",
    "import seaborn as sns\n",
    "import numpy as np\n",
    "import matplotlib.pyplot as plt\n",
    "from scipy.stats import sem, ttest_ind"
   ]
  },
  {
   "cell_type": "code",
   "execution_count": 21,
   "metadata": {},
   "outputs": [
    {
     "data": {
      "text/html": [
       "<div>\n",
       "<style scoped>\n",
       "    .dataframe tbody tr th:only-of-type {\n",
       "        vertical-align: middle;\n",
       "    }\n",
       "\n",
       "    .dataframe tbody tr th {\n",
       "        vertical-align: top;\n",
       "    }\n",
       "\n",
       "    .dataframe thead th {\n",
       "        text-align: right;\n",
       "    }\n",
       "</style>\n",
       "<table border=\"1\" class=\"dataframe\">\n",
       "  <thead>\n",
       "    <tr style=\"text-align: right;\">\n",
       "      <th></th>\n",
       "      <th>Gender</th>\n",
       "      <th>Percentile</th>\n",
       "      <th>Year</th>\n",
       "      <th>Life Expectancy Adjusted</th>\n",
       "    </tr>\n",
       "  </thead>\n",
       "  <tbody>\n",
       "    <tr>\n",
       "      <th>0</th>\n",
       "      <td>F</td>\n",
       "      <td>1</td>\n",
       "      <td>2001</td>\n",
       "      <td>79.893463</td>\n",
       "    </tr>\n",
       "    <tr>\n",
       "      <th>1</th>\n",
       "      <td>F</td>\n",
       "      <td>1</td>\n",
       "      <td>2002</td>\n",
       "      <td>79.410622</td>\n",
       "    </tr>\n",
       "    <tr>\n",
       "      <th>2</th>\n",
       "      <td>F</td>\n",
       "      <td>1</td>\n",
       "      <td>2003</td>\n",
       "      <td>79.572174</td>\n",
       "    </tr>\n",
       "    <tr>\n",
       "      <th>3</th>\n",
       "      <td>F</td>\n",
       "      <td>1</td>\n",
       "      <td>2004</td>\n",
       "      <td>80.092476</td>\n",
       "    </tr>\n",
       "    <tr>\n",
       "      <th>4</th>\n",
       "      <td>F</td>\n",
       "      <td>1</td>\n",
       "      <td>2005</td>\n",
       "      <td>80.465935</td>\n",
       "    </tr>\n",
       "  </tbody>\n",
       "</table>\n",
       "</div>"
      ],
      "text/plain": [
       "  Gender  Percentile  Year  Life Expectancy Adjusted\n",
       "0      F           1  2001                 79.893463\n",
       "1      F           1  2002                 79.410622\n",
       "2      F           1  2003                 79.572174\n",
       "3      F           1  2004                 80.092476\n",
       "4      F           1  2005                 80.465935"
      ]
     },
     "execution_count": 21,
     "metadata": {},
     "output_type": "execute_result"
    }
   ],
   "source": [
    "# Create a reference the CSV file desired\n",
    "csv_path = \"csv_references/clean_nat_gen_renamed.csv\"\n",
    "\n",
    "# Read the CSV into a Pandas DataFrame\n",
    "clean_nat_gen_renamed = pd.read_csv(csv_path)\n",
    "\n",
    "# Print the first five rows of data to the screen\n",
    "clean_nat_gen_renamed.head()"
   ]
  },
  {
   "cell_type": "code",
   "execution_count": 22,
   "metadata": {},
   "outputs": [],
   "source": [
    "# Create dfs for both males and females\n",
    "nat_f = clean_nat_gen_renamed.loc[clean_nat_gen_renamed[\"Gender\"] == \"F\"]\n",
    "nat_m = clean_nat_gen_renamed.loc[clean_nat_gen_renamed[\"Gender\"] == \"M\"]"
   ]
  },
  {
   "cell_type": "code",
   "execution_count": 23,
   "metadata": {},
   "outputs": [
    {
     "data": {
      "text/plain": [
       "Year\n",
       "2001    84.123293\n",
       "2002    84.422436\n",
       "2003    84.553474\n",
       "2004    84.888545\n",
       "2005    85.120959\n",
       "2006    85.350778\n",
       "2007    85.779769\n",
       "2008    85.954438\n",
       "2009    85.855385\n",
       "2010    86.124832\n",
       "2011    86.262001\n",
       "2012    86.258260\n",
       "2013    86.316370\n",
       "2014    86.549149\n",
       "Name: Life Expectancy Adjusted, dtype: float64"
      ]
     },
     "execution_count": 23,
     "metadata": {},
     "output_type": "execute_result"
    }
   ],
   "source": [
    "nat_f_avg = nat_f.groupby([\"Year\"]).mean()[\"Life Expectancy Adjusted\"]\n",
    "nat_f_avg"
   ]
  },
  {
   "cell_type": "code",
   "execution_count": 24,
   "metadata": {},
   "outputs": [
    {
     "data": {
      "text/plain": [
       "Year\n",
       "2001    80.754288\n",
       "2002    80.726148\n",
       "2003    80.913683\n",
       "2004    81.317760\n",
       "2005    81.554713\n",
       "2006    81.781294\n",
       "2007    82.109650\n",
       "2008    82.066193\n",
       "2009    82.078059\n",
       "2010    82.324108\n",
       "2011    82.407611\n",
       "2012    82.229739\n",
       "2013    82.342400\n",
       "2014    82.669289\n",
       "Name: Life Expectancy Adjusted, dtype: float64"
      ]
     },
     "execution_count": 24,
     "metadata": {},
     "output_type": "execute_result"
    }
   ],
   "source": [
    "nat_m_avg = nat_m.groupby([\"Year\"]).mean()[\"Life Expectancy Adjusted\"]\n",
    "nat_m_avg"
   ]
  },
  {
   "cell_type": "code",
   "execution_count": 25,
   "metadata": {},
   "outputs": [
    {
     "name": "stdout",
     "output_type": "stream",
     "text": [
      "t-statistics is 13.641185720203596.\n",
      "p-value is 4.4270493407937153e-13.\n"
     ]
    }
   ],
   "source": [
    "(t_stat, p) = ttest_ind(nat_f_avg, nat_m_avg, equal_var=False)\n",
    "print(\"t-statistics is {}.\".format(t_stat))\n",
    "print(\"p-value is {}.\".format(p))"
   ]
  },
  {
   "cell_type": "code",
   "execution_count": 26,
   "metadata": {},
   "outputs": [
    {
     "data": {
      "image/png": "[encoded data removed]",
      "text/plain": [
       "<Figure size 432x288 with 1 Axes>"
      ]
     },
     "metadata": {
      "needs_background": "light"
     },
     "output_type": "display_data"
    }
   ],
   "source": [
    "nat_f_avg, = plt.plot(nat_f_avg, label=\"Female\")\n",
    "nat_m_avg, = plt.plot(nat_m_avg, label = \"Male\")\n",
    "\n",
    "plt.title(\"Life Expectancy Over Time By Gender\")\n",
    "plt.xlabel(\"Year\")\n",
    "plt.ylabel(\"Age\")\n",
    "plt.grid(True)\n",
    "plt.legend()\n",
    "\n",
    "plt.savefig(\"chart_images/nat_gen_fig.png\")\n",
    "\n",
    "plt.show()"
   ]
  }
 ],
 "metadata": {
  "kernelspec": {
   "display_name": "Python 3",
   "language": "python",
   "name": "python3"
  },
  "language_info": {
   "codemirror_mode": {
    "name": "ipython",
    "version": 3
   },
   "file_extension": ".py",
   "mimetype": "text/x-python",
   "name": "python",
   "nbconvert_exporter": "python",
   "pygments_lexer": "ipython3",
   "version": "3.7.0"
  }
 },
 "nbformat": 4,
 "nbformat_minor": 2
}
