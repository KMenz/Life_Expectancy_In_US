{
 "cells": [
  {
   "cell_type": "code",
   "execution_count": 7,
   "metadata": {},
   "outputs": [],
   "source": [
    "import pandas as pd\n",
    "import numpy as np\n",
    "import scipy.stats \n",
    "import matplotlib.pyplot as plt"
   ]
  },
  {
   "cell_type": "code",
   "execution_count": 8,
   "metadata": {},
   "outputs": [],
   "source": [
    "%matplotlib inline\n",
    "plt.rcParams[\"figure.figsize\"] = 10,5"
   ]
  },
  {
   "cell_type": "code",
   "execution_count": 9,
   "metadata": {},
   "outputs": [
    {
     "data": {
      "text/html": [
       "<div>\n",
       "<style scoped>\n",
       "    .dataframe tbody tr th:only-of-type {\n",
       "        vertical-align: middle;\n",
       "    }\n",
       "\n",
       "    .dataframe tbody tr th {\n",
       "        vertical-align: top;\n",
       "    }\n",
       "\n",
       "    .dataframe thead th {\n",
       "        text-align: right;\n",
       "    }\n",
       "</style>\n",
       "<table border=\"1\" class=\"dataframe\">\n",
       "  <thead>\n",
       "    <tr style=\"text-align: right;\">\n",
       "      <th></th>\n",
       "      <th>State Abbreviation</th>\n",
       "      <th>State</th>\n",
       "      <th>LE Q1 F</th>\n",
       "      <th>LE Q2 F</th>\n",
       "      <th>LE Q3 F</th>\n",
       "      <th>LE Q4 F</th>\n",
       "      <th>LE Q1 M</th>\n",
       "      <th>LE Q2 M</th>\n",
       "      <th>LE Q3 M</th>\n",
       "      <th>LE Q4 M</th>\n",
       "      <th>Female Average</th>\n",
       "      <th>Male Average</th>\n",
       "      <th>Q1 Average</th>\n",
       "      <th>Q2 Average</th>\n",
       "      <th>Q3 Average</th>\n",
       "      <th>Q4 Average</th>\n",
       "      <th>State Average</th>\n",
       "    </tr>\n",
       "  </thead>\n",
       "  <tbody>\n",
       "    <tr>\n",
       "      <th>0</th>\n",
       "      <td>AL</td>\n",
       "      <td>Alabama</td>\n",
       "      <td>82.228058</td>\n",
       "      <td>84.474808</td>\n",
       "      <td>85.808136</td>\n",
       "      <td>87.224434</td>\n",
       "      <td>75.376083</td>\n",
       "      <td>79.430519</td>\n",
       "      <td>82.262962</td>\n",
       "      <td>84.497810</td>\n",
       "      <td>84.933859</td>\n",
       "      <td>80.391844</td>\n",
       "      <td>78.802070</td>\n",
       "      <td>81.952663</td>\n",
       "      <td>84.035549</td>\n",
       "      <td>85.861122</td>\n",
       "      <td>82.662851</td>\n",
       "    </tr>\n",
       "    <tr>\n",
       "      <th>1</th>\n",
       "      <td>AK</td>\n",
       "      <td>Alaska</td>\n",
       "      <td>82.348953</td>\n",
       "      <td>83.712013</td>\n",
       "      <td>85.585838</td>\n",
       "      <td>87.168770</td>\n",
       "      <td>76.639389</td>\n",
       "      <td>80.524376</td>\n",
       "      <td>82.445099</td>\n",
       "      <td>85.575829</td>\n",
       "      <td>84.703893</td>\n",
       "      <td>81.296173</td>\n",
       "      <td>79.494171</td>\n",
       "      <td>82.118195</td>\n",
       "      <td>84.015469</td>\n",
       "      <td>86.372299</td>\n",
       "      <td>83.000033</td>\n",
       "    </tr>\n",
       "    <tr>\n",
       "      <th>2</th>\n",
       "      <td>AZ</td>\n",
       "      <td>Arizona</td>\n",
       "      <td>82.151314</td>\n",
       "      <td>84.147186</td>\n",
       "      <td>85.781685</td>\n",
       "      <td>87.435135</td>\n",
       "      <td>77.007629</td>\n",
       "      <td>80.474632</td>\n",
       "      <td>82.700462</td>\n",
       "      <td>85.230026</td>\n",
       "      <td>84.878830</td>\n",
       "      <td>81.353187</td>\n",
       "      <td>79.579472</td>\n",
       "      <td>82.310909</td>\n",
       "      <td>84.241073</td>\n",
       "      <td>86.332581</td>\n",
       "      <td>83.116009</td>\n",
       "    </tr>\n",
       "    <tr>\n",
       "      <th>3</th>\n",
       "      <td>AR</td>\n",
       "      <td>Arkansas</td>\n",
       "      <td>81.310768</td>\n",
       "      <td>84.123650</td>\n",
       "      <td>85.637344</td>\n",
       "      <td>87.601463</td>\n",
       "      <td>75.763702</td>\n",
       "      <td>79.606911</td>\n",
       "      <td>82.115067</td>\n",
       "      <td>84.158447</td>\n",
       "      <td>84.668306</td>\n",
       "      <td>80.411032</td>\n",
       "      <td>78.537235</td>\n",
       "      <td>81.865281</td>\n",
       "      <td>83.876206</td>\n",
       "      <td>85.879955</td>\n",
       "      <td>82.539669</td>\n",
       "    </tr>\n",
       "    <tr>\n",
       "      <th>4</th>\n",
       "      <td>CA</td>\n",
       "      <td>California</td>\n",
       "      <td>82.946465</td>\n",
       "      <td>83.530724</td>\n",
       "      <td>84.965134</td>\n",
       "      <td>86.939842</td>\n",
       "      <td>78.731621</td>\n",
       "      <td>80.364868</td>\n",
       "      <td>82.369225</td>\n",
       "      <td>85.161736</td>\n",
       "      <td>84.595541</td>\n",
       "      <td>81.656863</td>\n",
       "      <td>80.839043</td>\n",
       "      <td>81.947796</td>\n",
       "      <td>83.667180</td>\n",
       "      <td>86.050789</td>\n",
       "      <td>83.126202</td>\n",
       "    </tr>\n",
       "  </tbody>\n",
       "</table>\n",
       "</div>"
      ],
      "text/plain": [
       "  State Abbreviation       State    LE Q1 F    LE Q2 F    LE Q3 F    LE Q4 F  \\\n",
       "0                 AL     Alabama  82.228058  84.474808  85.808136  87.224434   \n",
       "1                 AK      Alaska  82.348953  83.712013  85.585838  87.168770   \n",
       "2                 AZ     Arizona  82.151314  84.147186  85.781685  87.435135   \n",
       "3                 AR    Arkansas  81.310768  84.123650  85.637344  87.601463   \n",
       "4                 CA  California  82.946465  83.530724  84.965134  86.939842   \n",
       "\n",
       "     LE Q1 M    LE Q2 M    LE Q3 M    LE Q4 M  Female Average  Male Average  \\\n",
       "0  75.376083  79.430519  82.262962  84.497810       84.933859     80.391844   \n",
       "1  76.639389  80.524376  82.445099  85.575829       84.703893     81.296173   \n",
       "2  77.007629  80.474632  82.700462  85.230026       84.878830     81.353187   \n",
       "3  75.763702  79.606911  82.115067  84.158447       84.668306     80.411032   \n",
       "4  78.731621  80.364868  82.369225  85.161736       84.595541     81.656863   \n",
       "\n",
       "   Q1 Average  Q2 Average  Q3 Average  Q4 Average  State Average  \n",
       "0   78.802070   81.952663   84.035549   85.861122      82.662851  \n",
       "1   79.494171   82.118195   84.015469   86.372299      83.000033  \n",
       "2   79.579472   82.310909   84.241073   86.332581      83.116009  \n",
       "3   78.537235   81.865281   83.876206   85.879955      82.539669  \n",
       "4   80.839043   81.947796   83.667180   86.050789      83.126202  "
      ]
     },
     "execution_count": 9,
     "metadata": {},
     "output_type": "execute_result"
    }
   ],
   "source": [
    "# The path to our CSV file\n",
    "csv = \"csv_references/State_Characteristics.csv\"\n",
    "csv2 = \"csv_references/state_averages_cleaned.csv\"\n",
    "\n",
    "# Read our purchase data into pandas\n",
    "statesummaries_df = pd.read_csv(csv)\n",
    "stateaverages_df = pd.read_csv(csv2)\n",
    "# statesummaries_df.head()\n",
    "# stateaverages_df.head()\n",
    "stateaverages_df = stateaverages_df.rename(columns = {'Abbrv': 'State Abbreviation'})\n",
    "stateaverages_df.head()"
   ]
  },
  {
   "cell_type": "code",
   "execution_count": null,
   "metadata": {},
   "outputs": [],
   "source": []
  },
  {
   "cell_type": "code",
   "execution_count": 10,
   "metadata": {},
   "outputs": [
    {
     "data": {
      "text/html": [
       "<div>\n",
       "<style scoped>\n",
       "    .dataframe tbody tr th:only-of-type {\n",
       "        vertical-align: middle;\n",
       "    }\n",
       "\n",
       "    .dataframe tbody tr th {\n",
       "        vertical-align: top;\n",
       "    }\n",
       "\n",
       "    .dataframe thead th {\n",
       "        text-align: right;\n",
       "    }\n",
       "</style>\n",
       "<table border=\"1\" class=\"dataframe\">\n",
       "  <thead>\n",
       "    <tr style=\"text-align: right;\">\n",
       "      <th></th>\n",
       "      <th>State Abbreviation</th>\n",
       "      <th>Percent Uninsured</th>\n",
       "      <th>Percent of Medicare Enrollees with at Least One Primary Care Visit</th>\n",
       "      <th>Percent Black</th>\n",
       "      <th>Percent Hispanic</th>\n",
       "      <th>Mean Household Income</th>\n",
       "      <th>Median House Value</th>\n",
       "      <th>Percent College Grads</th>\n",
       "      <th>State</th>\n",
       "      <th>LE Q1 F</th>\n",
       "      <th>...</th>\n",
       "      <th>LE Q2 M</th>\n",
       "      <th>LE Q3 M</th>\n",
       "      <th>LE Q4 M</th>\n",
       "      <th>Female Average</th>\n",
       "      <th>Male Average</th>\n",
       "      <th>Q1 Average</th>\n",
       "      <th>Q2 Average</th>\n",
       "      <th>Q3 Average</th>\n",
       "      <th>Q4 Average</th>\n",
       "      <th>State Average</th>\n",
       "    </tr>\n",
       "  </thead>\n",
       "  <tbody>\n",
       "    <tr>\n",
       "      <th>0</th>\n",
       "      <td>AK</td>\n",
       "      <td>20.810048</td>\n",
       "      <td>68.396118</td>\n",
       "      <td>3.370547</td>\n",
       "      <td>4.117386</td>\n",
       "      <td>39316.127927</td>\n",
       "      <td>189058.544520</td>\n",
       "      <td>20.810048</td>\n",
       "      <td>Alaska</td>\n",
       "      <td>82.348953</td>\n",
       "      <td>...</td>\n",
       "      <td>80.524376</td>\n",
       "      <td>82.445099</td>\n",
       "      <td>85.575829</td>\n",
       "      <td>84.703893</td>\n",
       "      <td>81.296173</td>\n",
       "      <td>79.494171</td>\n",
       "      <td>82.118195</td>\n",
       "      <td>84.015469</td>\n",
       "      <td>86.372299</td>\n",
       "      <td>83.000033</td>\n",
       "    </tr>\n",
       "    <tr>\n",
       "      <th>1</th>\n",
       "      <td>AL</td>\n",
       "      <td>17.025655</td>\n",
       "      <td>83.011464</td>\n",
       "      <td>25.861258</td>\n",
       "      <td>1.705156</td>\n",
       "      <td>33407.113797</td>\n",
       "      <td>113881.208651</td>\n",
       "      <td>17.025655</td>\n",
       "      <td>Alabama</td>\n",
       "      <td>82.228058</td>\n",
       "      <td>...</td>\n",
       "      <td>79.430519</td>\n",
       "      <td>82.262962</td>\n",
       "      <td>84.497810</td>\n",
       "      <td>84.933859</td>\n",
       "      <td>80.391844</td>\n",
       "      <td>78.802070</td>\n",
       "      <td>81.952663</td>\n",
       "      <td>84.035549</td>\n",
       "      <td>85.861122</td>\n",
       "      <td>82.662851</td>\n",
       "    </tr>\n",
       "    <tr>\n",
       "      <th>2</th>\n",
       "      <td>AR</td>\n",
       "      <td>20.627987</td>\n",
       "      <td>80.983545</td>\n",
       "      <td>15.583714</td>\n",
       "      <td>3.249271</td>\n",
       "      <td>31613.757775</td>\n",
       "      <td>95801.433543</td>\n",
       "      <td>20.627987</td>\n",
       "      <td>Arkansas</td>\n",
       "      <td>81.310768</td>\n",
       "      <td>...</td>\n",
       "      <td>79.606911</td>\n",
       "      <td>82.115067</td>\n",
       "      <td>84.158447</td>\n",
       "      <td>84.668306</td>\n",
       "      <td>80.411032</td>\n",
       "      <td>78.537235</td>\n",
       "      <td>81.865281</td>\n",
       "      <td>83.876206</td>\n",
       "      <td>85.879955</td>\n",
       "      <td>82.539669</td>\n",
       "    </tr>\n",
       "    <tr>\n",
       "      <th>3</th>\n",
       "      <td>AZ</td>\n",
       "      <td>19.313449</td>\n",
       "      <td>79.607123</td>\n",
       "      <td>2.922467</td>\n",
       "      <td>25.252582</td>\n",
       "      <td>37996.247733</td>\n",
       "      <td>159287.376412</td>\n",
       "      <td>19.313449</td>\n",
       "      <td>Arizona</td>\n",
       "      <td>82.151314</td>\n",
       "      <td>...</td>\n",
       "      <td>80.474632</td>\n",
       "      <td>82.700462</td>\n",
       "      <td>85.230026</td>\n",
       "      <td>84.878830</td>\n",
       "      <td>81.353187</td>\n",
       "      <td>79.579472</td>\n",
       "      <td>82.310909</td>\n",
       "      <td>84.241073</td>\n",
       "      <td>86.332581</td>\n",
       "      <td>83.116009</td>\n",
       "    </tr>\n",
       "    <tr>\n",
       "      <th>4</th>\n",
       "      <td>CA</td>\n",
       "      <td>20.643943</td>\n",
       "      <td>72.221846</td>\n",
       "      <td>6.441747</td>\n",
       "      <td>32.376801</td>\n",
       "      <td>41101.182974</td>\n",
       "      <td>303544.618008</td>\n",
       "      <td>20.643943</td>\n",
       "      <td>California</td>\n",
       "      <td>82.946465</td>\n",
       "      <td>...</td>\n",
       "      <td>80.364868</td>\n",
       "      <td>82.369225</td>\n",
       "      <td>85.161736</td>\n",
       "      <td>84.595541</td>\n",
       "      <td>81.656863</td>\n",
       "      <td>80.839043</td>\n",
       "      <td>81.947796</td>\n",
       "      <td>83.667180</td>\n",
       "      <td>86.050789</td>\n",
       "      <td>83.126202</td>\n",
       "    </tr>\n",
       "  </tbody>\n",
       "</table>\n",
       "<p>5 rows × 24 columns</p>\n",
       "</div>"
      ],
      "text/plain": [
       "  State Abbreviation  Percent Uninsured  \\\n",
       "0                 AK          20.810048   \n",
       "1                 AL          17.025655   \n",
       "2                 AR          20.627987   \n",
       "3                 AZ          19.313449   \n",
       "4                 CA          20.643943   \n",
       "\n",
       "   Percent of Medicare Enrollees with at Least One Primary Care Visit  \\\n",
       "0                                          68.396118                    \n",
       "1                                          83.011464                    \n",
       "2                                          80.983545                    \n",
       "3                                          79.607123                    \n",
       "4                                          72.221846                    \n",
       "\n",
       "   Percent Black  Percent Hispanic  Mean Household Income  Median House Value  \\\n",
       "0       3.370547          4.117386           39316.127927       189058.544520   \n",
       "1      25.861258          1.705156           33407.113797       113881.208651   \n",
       "2      15.583714          3.249271           31613.757775        95801.433543   \n",
       "3       2.922467         25.252582           37996.247733       159287.376412   \n",
       "4       6.441747         32.376801           41101.182974       303544.618008   \n",
       "\n",
       "   Percent College Grads       State    LE Q1 F      ...          LE Q2 M  \\\n",
       "0              20.810048      Alaska  82.348953      ...        80.524376   \n",
       "1              17.025655     Alabama  82.228058      ...        79.430519   \n",
       "2              20.627987    Arkansas  81.310768      ...        79.606911   \n",
       "3              19.313449     Arizona  82.151314      ...        80.474632   \n",
       "4              20.643943  California  82.946465      ...        80.364868   \n",
       "\n",
       "     LE Q3 M    LE Q4 M  Female Average  Male Average  Q1 Average  Q2 Average  \\\n",
       "0  82.445099  85.575829       84.703893     81.296173   79.494171   82.118195   \n",
       "1  82.262962  84.497810       84.933859     80.391844   78.802070   81.952663   \n",
       "2  82.115067  84.158447       84.668306     80.411032   78.537235   81.865281   \n",
       "3  82.700462  85.230026       84.878830     81.353187   79.579472   82.310909   \n",
       "4  82.369225  85.161736       84.595541     81.656863   80.839043   81.947796   \n",
       "\n",
       "   Q3 Average  Q4 Average  State Average  \n",
       "0   84.015469   86.372299      83.000033  \n",
       "1   84.035549   85.861122      82.662851  \n",
       "2   83.876206   85.879955      82.539669  \n",
       "3   84.241073   86.332581      83.116009  \n",
       "4   83.667180   86.050789      83.126202  \n",
       "\n",
       "[5 rows x 24 columns]"
      ]
     },
     "execution_count": 10,
     "metadata": {},
     "output_type": "execute_result"
    }
   ],
   "source": [
    "stateinfomerge_df=pd.merge(statesummaries_df,stateaverages_df, on=\"State Abbreviation\")\n",
    "stateinfomerge_df.head()"
   ]
  },
  {
   "cell_type": "code",
   "execution_count": 19,
   "metadata": {},
   "outputs": [
    {
     "data": {
      "image/png": "[encoded data removed]",
      "text/plain": [
       "<Figure size 720x360 with 1 Axes>"
      ]
     },
     "metadata": {
      "needs_background": "light"
     },
     "output_type": "display_data"
    }
   ],
   "source": [
    "# Create a bar chart based off of the group series from before\n",
    "x_axis = np.arange(len(statesummaries_df['State Abbreviation']))\n",
    "\n",
    "plt.bar(x_axis, statesummaries_df[\"Percent Uninsured\"], alpha=0.5, align=\"center\") \n",
    "\n",
    "tick_locations = [value for value in x_axis]\n",
    "plt.xticks(tick_locations, statesummaries_df['State Abbreviation'], rotation=\"vertical\")\n",
    "\n",
    "plt.title(\"Percent Uninsured By State\")\n",
    "plt.xlabel(\"State\")\n",
    "plt.ylabel(\"Percent Uninsured\")\n",
    "\n",
    "plt.savefig('chart_images/Pct_unins_state_avg.png')\n",
    "\n",
    "# plt.figure(figsize=(20,10))\n",
    "plt.show()"
   ]
  },
  {
   "cell_type": "code",
   "execution_count": 21,
   "metadata": {},
   "outputs": [
    {
     "data": {
      "image/png": "[encoded data removed]",
      "text/plain": [
       "<Figure size 720x360 with 1 Axes>"
      ]
     },
     "metadata": {
      "needs_background": "light"
     },
     "output_type": "display_data"
    }
   ],
   "source": [
    "PU=plt.scatter(stateinfomerge_df[\"Percent Uninsured\"], stateinfomerge_df[\"State Average\"], c=\"blue\",edgecolor=\"black\", \n",
    "                  linewidths=.5, alpha=.75, label=\"State Average\")\n",
    "\n",
    "plt.xlabel(\"Percent Uninsured\")\n",
    "plt.ylabel(\"State Average Life Expectancy\")\n",
    "plt.title(\"State Average Life Expectancy vs. Percent Uninsured\")\n",
    "\n",
    "plt.savefig('chart_images/State_avg_pct_uninsured.png')\n",
    "# plt.trendline()"
   ]
  },
  {
   "cell_type": "code",
   "execution_count": 13,
   "metadata": {},
   "outputs": [
    {
     "data": {
      "text/plain": [
       "(-0.36478351540434856, 0.008491792016149613)"
      ]
     },
     "execution_count": 13,
     "metadata": {},
     "output_type": "execute_result"
    }
   ],
   "source": [
    "scipy.stats.pearsonr(stateinfomerge_df[\"Percent Uninsured\"], stateinfomerge_df[\"State Average\"])"
   ]
  },
  {
   "cell_type": "code",
   "execution_count": 22,
   "metadata": {},
   "outputs": [
    {
     "data": {
      "image/png": "[encoded data removed]",
      "text/plain": [
       "<Figure size 720x360 with 1 Axes>"
      ]
     },
     "metadata": {
      "needs_background": "light"
     },
     "output_type": "display_data"
    }
   ],
   "source": [
    "Hispanic=plt.scatter(stateinfomerge_df[\"Percent Black\"], stateinfomerge_df[\"State Average\"], c=\"blue\",edgecolor=\"black\", \n",
    "                  linewidths=.5, alpha=.75, label=\"Male\")\n",
    "\n",
    "plt.xlabel(\"Percent African-American\")\n",
    "plt.ylabel(\"State Average Life Expectancy\")\n",
    "plt.title(\"State Average Life Expectancy vs. Percent African-American\")\n",
    "\n",
    "plt.savefig('chart_images/Pct_AA_state_avg.png')\n",
    "# plt.trendline()"
   ]
  },
  {
   "cell_type": "code",
   "execution_count": 15,
   "metadata": {},
   "outputs": [
    {
     "data": {
      "text/plain": [
       "(-0.32034333619614225, 0.021919807870853156)"
      ]
     },
     "execution_count": 15,
     "metadata": {},
     "output_type": "execute_result"
    }
   ],
   "source": [
    "scipy.stats.pearsonr(stateinfomerge_df[\"Percent Black\"], stateinfomerge_df[\"State Average\"])"
   ]
  },
  {
   "cell_type": "code",
   "execution_count": 23,
   "metadata": {},
   "outputs": [
    {
     "data": {
      "image/png": "[encoded data removed]",
      "text/plain": [
       "<Figure size 720x360 with 1 Axes>"
      ]
     },
     "metadata": {
      "needs_background": "light"
     },
     "output_type": "display_data"
    }
   ],
   "source": [
    "Hispanic=plt.scatter(stateinfomerge_df[\"Percent Hispanic\"], stateinfomerge_df[\"State Average\"], c=\"blue\",edgecolor=\"black\", \n",
    "                  linewidths=.5, alpha=.75, label=\"Male\")\n",
    "\n",
    "plt.xlabel(\"Percent Hispanic\")\n",
    "plt.ylabel(\"State Average Life Expectancy\")\n",
    "plt.title(\"State Average Life Expectancy vs. Percent Hispanic\")\n",
    "\n",
    "plt.savefig('chart_images/Pct_hispanic_state_avg.png')\n",
    "# plt.trendline()"
   ]
  },
  {
   "cell_type": "code",
   "execution_count": 17,
   "metadata": {},
   "outputs": [
    {
     "data": {
      "text/plain": [
       "(-0.20427612810645301, 0.15047113551257532)"
      ]
     },
     "execution_count": 17,
     "metadata": {},
     "output_type": "execute_result"
    }
   ],
   "source": [
    "scipy.stats.pearsonr(stateinfomerge_df[\"Percent Hispanic\"], stateinfomerge_df[\"State Average\"])"
   ]
  },
  {
   "cell_type": "code",
   "execution_count": null,
   "metadata": {},
   "outputs": [],
   "source": []
  }
 ],
 "metadata": {
  "kernelspec": {
   "display_name": "Python 3",
   "language": "python",
   "name": "python3"
  },
  "language_info": {
   "codemirror_mode": {
    "name": "ipython",
    "version": 3
   },
   "file_extension": ".py",
   "mimetype": "text/x-python",
   "name": "python",
   "nbconvert_exporter": "python",
   "pygments_lexer": "ipython3",
   "version": "3.7.0"
  }
 },
 "nbformat": 4,
 "nbformat_minor": 2
}
